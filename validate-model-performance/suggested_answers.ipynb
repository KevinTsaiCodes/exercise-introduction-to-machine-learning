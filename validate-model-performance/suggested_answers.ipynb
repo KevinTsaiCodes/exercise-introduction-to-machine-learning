{
 "cells": [
  {
   "cell_type": "markdown",
   "metadata": {
    "deletable": false,
    "editable": false
   },
   "source": [
    "##  Python Data Science\n",
    "\n",
    "> Introduction to Machine Learning\n",
    "\n",
    "Kuo, Yao-Jen <yaojenkuo@datainpoint.com> from [DATAINPOINT](https://www.datainpoint.com)"
   ]
  },
  {
   "cell_type": "code",
   "execution_count": 1,
   "metadata": {
    "deletable": false,
    "editable": false
   },
   "outputs": [],
   "source": [
    "import numpy as np\n",
    "import pandas as pd\n",
    "import sklearn.linear_model\n",
    "from sklearn.model_selection import train_test_split\n",
    "from sklearn.linear_model import LinearRegression\n",
    "from sklearn.linear_model import LogisticRegression\n",
    "from sklearn.metrics import mean_squared_error\n",
    "from sklearn.metrics import accuracy_score"
   ]
  },
  {
   "cell_type": "markdown",
   "metadata": {},
   "source": [
    "## Given `house-prices-train.csv` in working directory, extract `GrLivArea` as the feature matrix, `SalePrice` as the target vector. Split both target vector and feature matrix with 80% as training set, 20% as validation set. Use a hyperparameter `random_state=42` to fix the randomness of split. Apply `LinearRegression` on the training set to generate a fitted model. Use the model to predict the `SalePrice` for validation set and measure the mean squared error of the model.\n",
    "\n",
    "- Expected inputs: a CSV file `house-prices-train.csv`.\n",
    "- Expected outputs: a float."
   ]
  },
  {
   "cell_type": "code",
   "execution_count": 2,
   "metadata": {},
   "outputs": [],
   "source": [
    "def get_model_mse(csv_file):\n",
    "    \"\"\"\n",
    "    >>> model_mse = get_model_mse('house-prices-train.csv')\n",
    "    >>> print(type(model_mse))\n",
    "    <class 'float'>\n",
    "    >>> print(model_mse)\n",
    "    3418946311.180807\n",
    "    \"\"\"\n",
    "    ### BEGIN SOLUTION\n",
    "    df = pd.read_csv(csv_file)\n",
    "    X = df['GrLivArea'].values.reshape(-1, 1)\n",
    "    y = df['SalePrice'].values\n",
    "    X_train, X_valid, y_train, y_valid = train_test_split(X, y, test_size=0.2, random_state=42)\n",
    "    model = LinearRegression()\n",
    "    model.fit(X_train, y_train)\n",
    "    y_hat = model.predict(X_valid)\n",
    "    return mean_squared_error(y_valid, y_hat)\n",
    "    ### END SOLUTION"
   ]
  },
  {
   "cell_type": "markdown",
   "metadata": {},
   "source": [
    "## Given `titanic-train.csv` in working directory, extract `Fare` as the feature matrix, `Survived` as the target vector. Split both target vector and feature matrix with 80% as training set, 20% as validation set. Use a hyperparameter `random_state=42` to fix the randomness of split. Apply `LogisticRegression` on the training set to generate a fitted model. Use the model to predict the `Survived` for validation set and measure the accuracy of the model.\n",
    "\n",
    "- Expected inputs: a CSV file `titanic-train.csv`.\n",
    "- Expected outputs: a float."
   ]
  },
  {
   "cell_type": "code",
   "execution_count": 3,
   "metadata": {},
   "outputs": [],
   "source": [
    "def get_model_accuracy_score(csv_file):\n",
    "    \"\"\"\n",
    "    >>> model_accuracy_score = get_model_accuracy_score('titanic-train.csv')\n",
    "    >>> print(type(model_accuracy_score))\n",
    "    <class 'float'>\n",
    "    >>> print(model_accuracy_score)\n",
    "    0.6536312849162011\n",
    "    \"\"\"\n",
    "    ### BEGIN SOLUTION\n",
    "    df = pd.read_csv(csv_file)\n",
    "    X = df['Fare'].values.reshape(-1, 1)\n",
    "    y = df['Survived'].values\n",
    "    X_train, X_valid, y_train, y_valid = train_test_split(X, y, test_size=0.2, random_state=42)\n",
    "    model = LogisticRegression()\n",
    "    model.fit(X_train, y_train)\n",
    "    y_hat = model.predict(X_valid)\n",
    "    return accuracy_score(y_valid, y_hat)\n",
    "    ### END SOLUTION"
   ]
  },
  {
   "cell_type": "markdown",
   "metadata": {
    "deletable": false,
    "editable": false
   },
   "source": [
    "## Run tests!\n",
    "\n",
    "Kernel -> Restart & Run All."
   ]
  },
  {
   "cell_type": "code",
   "execution_count": 4,
   "metadata": {
    "deletable": false,
    "editable": false
   },
   "outputs": [
    {
     "name": "stderr",
     "output_type": "stream",
     "text": [
      "test_get_model_accuracy_score (__main__.TestValidateModelPerformance) ... ok\n",
      "test_get_model_mse (__main__.TestValidateModelPerformance) ... ok\n",
      "\n",
      "----------------------------------------------------------------------\n",
      "Ran 2 tests in 0.057s\n",
      "\n",
      "OK\n"
     ]
    }
   ],
   "source": [
    "import unittest\n",
    "\n",
    "class TestValidateModelPerformance(unittest.TestCase):\n",
    "    def test_get_model_mse(self):\n",
    "        model_mse = get_model_mse('house-prices-train.csv')\n",
    "        self.assertIsInstance(model_mse, float)\n",
    "        self.assertAlmostEqual(model_mse, 3418946311.180807)\n",
    "    def test_get_model_accuracy_score(self):\n",
    "        model_accuracy_score = get_model_accuracy_score('titanic-train.csv')\n",
    "        self.assertIsInstance(model_accuracy_score, float)\n",
    "        self.assertAlmostEqual(model_accuracy_score, 0.6536312849162011)    \n",
    "    \n",
    "suite = unittest.TestLoader().loadTestsFromTestCase(TestValidateModelPerformance)\n",
    "runner = unittest.TextTestRunner(verbosity=2)\n",
    "test_results = runner.run(suite)\n",
    "number_of_failures = len(test_results.failures)\n",
    "number_of_errors = len(test_results.errors)\n",
    "number_of_test_runs = test_results.testsRun\n",
    "number_of_successes = number_of_test_runs - (number_of_failures + number_of_errors)\n",
    "total_points = number_of_successes * 2"
   ]
  },
  {
   "cell_type": "code",
   "execution_count": 5,
   "metadata": {
    "deletable": false,
    "editable": false
   },
   "outputs": [
    {
     "name": "stdout",
     "output_type": "stream",
     "text": [
      "You've got 2 successes out of 2 exercises.\n"
     ]
    }
   ],
   "source": [
    "print(\"You've got {} successes out of {} exercises.\".format(number_of_successes, number_of_test_runs))"
   ]
  }
 ],
 "metadata": {
  "kernelspec": {
   "display_name": "Python Machine Learning",
   "language": "python",
   "name": "pyml"
  },
  "language_info": {
   "codemirror_mode": {
    "name": "ipython",
    "version": 3
   },
   "file_extension": ".py",
   "mimetype": "text/x-python",
   "name": "python",
   "nbconvert_exporter": "python",
   "pygments_lexer": "ipython3",
   "version": "3.6.8"
  }
 },
 "nbformat": 4,
 "nbformat_minor": 4
}
