{
 "cells": [
  {
   "cell_type": "markdown",
   "metadata": {
    "deletable": false,
    "editable": false
   },
   "source": [
    "##  Python Data Science\n",
    "\n",
    "> Exercises: Array Computing with NumPy\n",
    "\n",
    "Kuo, Yao-Jen <yaojenkuo@datainpoint.com> from [DATAINPOINT](https://www.datainpoint.com)"
   ]
  },
  {
   "cell_type": "code",
   "execution_count": 1,
   "metadata": {
    "deletable": false,
    "editable": false
   },
   "outputs": [],
   "source": [
    "import numpy as np"
   ]
  },
  {
   "cell_type": "markdown",
   "metadata": {},
   "source": [
    "## Define a function named `create_99_matrix`\n",
    "\n",
    "- Expected inputs: None\n",
    "- Expected outputs: a (9, 9) ndarray"
   ]
  },
  {
   "cell_type": "code",
   "execution_count": 2,
   "metadata": {},
   "outputs": [],
   "source": [
    "def create_99_array():\n",
    "    \"\"\"\n",
    "    >>> create_99_array()\n",
    "    array([[ 1,  2,  3,  4,  5,  6,  7,  8,  9],\n",
    "           [ 2,  4,  6,  8, 10, 12, 14, 16, 18],\n",
    "           [ 3,  6,  9, 12, 15, 18, 21, 24, 27],\n",
    "           [ 4,  8, 12, 16, 20, 24, 28, 32, 36],\n",
    "           [ 5, 10, 15, 20, 25, 30, 35, 40, 45],\n",
    "           [ 6, 12, 18, 24, 30, 36, 42, 48, 54],\n",
    "           [ 7, 14, 21, 28, 35, 42, 49, 56, 63],\n",
    "           [ 8, 16, 24, 32, 40, 48, 56, 64, 72],\n",
    "           [ 9, 18, 27, 36, 45, 54, 63, 72, 81]])\n",
    "    \"\"\"\n",
    "    ### BEGIN SOLUTION\n",
    "    ### END SOLUTION"
   ]
  },
  {
   "cell_type": "markdown",
   "metadata": {},
   "source": [
    "## Define a function named `var` that is able to calculate the variance of a given array.\n",
    "\n",
    "\\begin{equation}\n",
    "Var(x) = \\frac{1}{N}\\sum_{i=1}^{N}(x_i - \\bar{x})^2\n",
    "\\end{equation}\n",
    "\n",
    "- Expected inputs: an array\n",
    "- Expected outputs: a numeric\n",
    "\n",
    "Source: <https://en.wikipedia.org/wiki/Variance>"
   ]
  },
  {
   "cell_type": "code",
   "execution_count": 3,
   "metadata": {},
   "outputs": [],
   "source": [
    "def var(x):\n",
    "    \"\"\"\n",
    "    >>> var(np.arange(10))\n",
    "    8.25\n",
    "    >>> var(np.arange(100))\n",
    "    833.25\n",
    "    \"\"\"\n",
    "    ### BEGIN SOLUTION\n",
    "    ### END SOLUTION"
   ]
  },
  {
   "cell_type": "markdown",
   "metadata": {},
   "source": [
    "## Define a function named `std` that is able to calculate the standard deviation of a given array.\n",
    "\n",
    "\\begin{equation}\n",
    "SD(x) = \\sqrt{Var(x)} = \\sqrt{\\frac{1}{N}\\sum_{i=1}^{N}(x_i - \\bar{x})^2}\n",
    "\\end{equation}\n",
    "\n",
    "- Expected inputs: an array\n",
    "- Expected outputs: a numeric\n",
    "\n",
    "Source: https://en.wikipedia.org/wiki/Standard_deviation"
   ]
  },
  {
   "cell_type": "code",
   "execution_count": 4,
   "metadata": {},
   "outputs": [],
   "source": [
    "def std(x):\n",
    "    \"\"\"\n",
    "    >>> std(np.arange(10))\n",
    "    2.8722813232690143\n",
    "    >>> std(np.arange(100))\n",
    "    28.86607004772212\n",
    "    \"\"\"\n",
    "    ### BEGIN SOLUTION\n",
    "    ### END SOLUTION"
   ]
  },
  {
   "cell_type": "markdown",
   "metadata": {},
   "source": [
    "## Define a function named `cov` that is able to calculate the covariance of 2 same-length arrays.\n",
    "\n",
    "\\begin{equation}\n",
    "cov(x, y) = \\frac{1}{N}\\sum_{i=1}^{N}(x_i-\\bar{x})(y_i-\\bar{y})\n",
    "\\end{equation}\n",
    "\n",
    "- Expected inputs: 2 arrays\n",
    "- Expected outputs: a numeric\n",
    "\n",
    "Source: <https://en.wikipedia.org/wiki/Covariance>"
   ]
  },
  {
   "cell_type": "code",
   "execution_count": 5,
   "metadata": {},
   "outputs": [],
   "source": [
    "def cov(x, y):\n",
    "    \"\"\"\n",
    "    >>> np.random.seed(123)\n",
    "    >>> x = np.random.randint(0, 50, 10)\n",
    "    >>> y = np.random.randint(0, 50, 10)\n",
    "    >>> cov(x, y)\n",
    "    -54.7\n",
    "    \"\"\"\n",
    "    ### BEGIN SOLUTION\n",
    "    ### END SOLUTION"
   ]
  },
  {
   "cell_type": "markdown",
   "metadata": {},
   "source": [
    "## Define a function named `corr` that is able to calculate the correlation coefficient of 2 same-length arrays.\n",
    "\n",
    "\\begin{equation}\n",
    "r_{xy} = \\frac{cov(x, y)}{\\sqrt{cov(x, x)cov(y, y)}}\n",
    "\\end{equation}\n",
    "\n",
    "- Expected inputs: 2 arrays\n",
    "- Expected outputs: a numeric\n",
    "\n",
    "Source: <https://en.wikipedia.org/wiki/Correlation_coefficient>"
   ]
  },
  {
   "cell_type": "code",
   "execution_count": 6,
   "metadata": {},
   "outputs": [],
   "source": [
    "def corr(x, y):\n",
    "    \"\"\"\n",
    "    >>> np.random.seed(123)\n",
    "    >>> x = np.random.randint(0, 50, 10)\n",
    "    >>> y = np.random.randint(0, 50, 10)\n",
    "    >>> corr(x, y)\n",
    "    -0.3409853364175933\n",
    "    \"\"\"\n",
    "    ### BEGIN SOLUTION\n",
    "    ### END SOLUTION"
   ]
  },
  {
   "cell_type": "markdown",
   "metadata": {},
   "source": [
    "## Run tests!"
   ]
  },
  {
   "cell_type": "code",
   "execution_count": 7,
   "metadata": {
    "deletable": false,
    "editable": false
   },
   "outputs": [
    {
     "name": "stderr",
     "output_type": "stream",
     "text": [
      "test_corr (__main__.TestArrayComputing) ... ERROR\n",
      "test_cov (__main__.TestArrayComputing) ... ERROR\n",
      "test_create_99_array (__main__.TestArrayComputing) ... ERROR\n",
      "test_std (__main__.TestArrayComputing) ... ERROR\n",
      "test_var (__main__.TestArrayComputing) ... ERROR\n",
      "\n",
      "======================================================================\n",
      "ERROR: test_corr (__main__.TestArrayComputing)\n",
      "----------------------------------------------------------------------\n",
      "Traceback (most recent call last):\n",
      "  File \"<ipython-input-7-42c905c952c3>\", line 30, in test_corr\n",
      "    self.assertAlmostEqual(corr(x, y), -0.3409853364175933)\n",
      "  File \"/Library/Frameworks/Python.framework/Versions/3.6/lib/python3.6/unittest/case.py\", line 871, in assertAlmostEqual\n",
      "    if round(abs(second-first), places) == 0:\n",
      "TypeError: unsupported operand type(s) for -: 'float' and 'NoneType'\n",
      "\n",
      "======================================================================\n",
      "ERROR: test_cov (__main__.TestArrayComputing)\n",
      "----------------------------------------------------------------------\n",
      "Traceback (most recent call last):\n",
      "  File \"<ipython-input-7-42c905c952c3>\", line 25, in test_cov\n",
      "    self.assertAlmostEqual(cov(x, y), -54.7)\n",
      "  File \"/Library/Frameworks/Python.framework/Versions/3.6/lib/python3.6/unittest/case.py\", line 871, in assertAlmostEqual\n",
      "    if round(abs(second-first), places) == 0:\n",
      "TypeError: unsupported operand type(s) for -: 'float' and 'NoneType'\n",
      "\n",
      "======================================================================\n",
      "ERROR: test_create_99_array (__main__.TestArrayComputing)\n",
      "----------------------------------------------------------------------\n",
      "Traceback (most recent call last):\n",
      "  File \"<ipython-input-7-42c905c952c3>\", line 14, in test_create_99_array\n",
      "    [ 9, 18, 27, 36, 45, 54, 63, 72, 81]]))\n",
      "  File \"/Users/kuoyaojen/pyda/lib/python3.6/site-packages/numpy/testing/_private/utils.py\", line 585, in assert_almost_equal\n",
      "    return assert_array_almost_equal(actual, desired, decimal, err_msg)\n",
      "  File \"/Users/kuoyaojen/pyda/lib/python3.6/site-packages/numpy/testing/_private/utils.py\", line 1047, in assert_array_almost_equal\n",
      "    precision=decimal)\n",
      "  File \"/Users/kuoyaojen/pyda/lib/python3.6/site-packages/numpy/testing/_private/utils.py\", line 794, in assert_array_compare\n",
      "    val = comparison(x, y)\n",
      "  File \"/Users/kuoyaojen/pyda/lib/python3.6/site-packages/numpy/testing/_private/utils.py\", line 1038, in compare\n",
      "    z = abs(x - y)\n",
      "TypeError: unsupported operand type(s) for -: 'NoneType' and 'float'\n",
      "\n",
      "======================================================================\n",
      "ERROR: test_std (__main__.TestArrayComputing)\n",
      "----------------------------------------------------------------------\n",
      "Traceback (most recent call last):\n",
      "  File \"<ipython-input-7-42c905c952c3>\", line 19, in test_std\n",
      "    self.assertAlmostEqual(std(np.arange(10)), 2.8722813232690143)\n",
      "  File \"/Library/Frameworks/Python.framework/Versions/3.6/lib/python3.6/unittest/case.py\", line 871, in assertAlmostEqual\n",
      "    if round(abs(second-first), places) == 0:\n",
      "TypeError: unsupported operand type(s) for -: 'float' and 'NoneType'\n",
      "\n",
      "======================================================================\n",
      "ERROR: test_var (__main__.TestArrayComputing)\n",
      "----------------------------------------------------------------------\n",
      "Traceback (most recent call last):\n",
      "  File \"<ipython-input-7-42c905c952c3>\", line 16, in test_var\n",
      "    self.assertAlmostEqual(var(np.arange(10)), 8.25)\n",
      "  File \"/Library/Frameworks/Python.framework/Versions/3.6/lib/python3.6/unittest/case.py\", line 871, in assertAlmostEqual\n",
      "    if round(abs(second-first), places) == 0:\n",
      "TypeError: unsupported operand type(s) for -: 'float' and 'NoneType'\n",
      "\n",
      "----------------------------------------------------------------------\n",
      "Ran 5 tests in 0.019s\n",
      "\n",
      "FAILED (errors=5)\n"
     ]
    }
   ],
   "source": [
    "import unittest\n",
    "\n",
    "class TestArrayComputing(unittest.TestCase):\n",
    "    def test_create_99_array(self):\n",
    "        np.testing.assert_almost_equal(create_99_array(),\n",
    "    np.array([[ 1,  2,  3,  4,  5,  6,  7,  8,  9],\n",
    "           [ 2,  4,  6,  8, 10, 12, 14, 16, 18],\n",
    "           [ 3,  6,  9, 12, 15, 18, 21, 24, 27],\n",
    "           [ 4,  8, 12, 16, 20, 24, 28, 32, 36],\n",
    "           [ 5, 10, 15, 20, 25, 30, 35, 40, 45],\n",
    "           [ 6, 12, 18, 24, 30, 36, 42, 48, 54],\n",
    "           [ 7, 14, 21, 28, 35, 42, 49, 56, 63],\n",
    "           [ 8, 16, 24, 32, 40, 48, 56, 64, 72],\n",
    "           [ 9, 18, 27, 36, 45, 54, 63, 72, 81]]))\n",
    "    def test_var(self):\n",
    "        self.assertAlmostEqual(var(np.arange(10)), 8.25)\n",
    "        self.assertAlmostEqual(var(np.arange(100)), 833.25)\n",
    "    def test_std(self):\n",
    "        self.assertAlmostEqual(std(np.arange(10)), 2.8722813232690143)\n",
    "        self.assertAlmostEqual(std(np.arange(100)), 28.86607004772212)\n",
    "    def test_cov(self):\n",
    "        np.random.seed(123)\n",
    "        x = np.random.randint(0, 50, 10)\n",
    "        y = np.random.randint(0, 50, 10)\n",
    "        self.assertAlmostEqual(cov(x, y), -54.7)\n",
    "    def test_corr(self):\n",
    "        np.random.seed(123)\n",
    "        x = np.random.randint(0, 50, 10)\n",
    "        y = np.random.randint(0, 50, 10)\n",
    "        self.assertAlmostEqual(corr(x, y), -0.3409853364175933)\n",
    "\n",
    "suite = unittest.TestLoader().loadTestsFromTestCase(TestArrayComputing)\n",
    "runner = unittest.TextTestRunner(verbosity=2)\n",
    "test_results = runner.run(suite)\n",
    "number_of_failures = len(test_results.failures)\n",
    "number_of_errors = len(test_results.errors)\n",
    "number_of_test_runs = test_results.testsRun\n",
    "number_of_successes = number_of_test_runs - (number_of_failures + number_of_errors)\n",
    "total_points = number_of_successes * 2"
   ]
  },
  {
   "cell_type": "code",
   "execution_count": 8,
   "metadata": {
    "deletable": false,
    "editable": false
   },
   "outputs": [
    {
     "name": "stdout",
     "output_type": "stream",
     "text": [
      "You've got 0 successes with 0 points.\n"
     ]
    }
   ],
   "source": [
    "print(\"You've got {} successes with {} points.\".format(number_of_successes, total_points))"
   ]
  }
 ],
 "metadata": {
  "kernelspec": {
   "display_name": "Python Data Analysis",
   "language": "python",
   "name": "pyda"
  },
  "language_info": {
   "codemirror_mode": {
    "name": "ipython",
    "version": 3
   },
   "file_extension": ".py",
   "mimetype": "text/x-python",
   "name": "python",
   "nbconvert_exporter": "python",
   "pygments_lexer": "ipython3",
   "version": "3.6.8"
  }
 },
 "nbformat": 4,
 "nbformat_minor": 4
}
