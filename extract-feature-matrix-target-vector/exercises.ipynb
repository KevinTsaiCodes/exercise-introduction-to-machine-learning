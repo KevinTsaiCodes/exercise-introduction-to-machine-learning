{
 "cells": [
  {
   "cell_type": "markdown",
   "metadata": {
    "deletable": false,
    "editable": false
   },
   "source": [
    "##  Python Data Science\n",
    "\n",
    "> Introduction to Machine Learning\n",
    "\n",
    "Kuo, Yao-Jen <yaojenkuo@datainpoint.com> from [DATAINPOINT](https://www.datainpoint.com)"
   ]
  },
  {
   "cell_type": "code",
   "execution_count": 1,
   "metadata": {
    "deletable": false,
    "editable": false
   },
   "outputs": [],
   "source": [
    "import numpy as np\n",
    "import pandas as pd"
   ]
  },
  {
   "cell_type": "markdown",
   "metadata": {},
   "source": [
    "## Given `titanic-train.csv` in working directory, extract `Survived` as target vector and other variables as feature matrix.\n",
    "\n",
    "- Expected inputs: a CSV file `titanic-train.csv`.\n",
    "- Expected outputs: a (891, 11) ndarray and a (891,) ndarray."
   ]
  },
  {
   "cell_type": "code",
   "execution_count": 2,
   "metadata": {},
   "outputs": [],
   "source": [
    "def extract_titanic_X_y(csv_file):\n",
    "    \"\"\"\n",
    "    >>> titanic_X, titanic_y = extract_titanic_X_y('titanic-train.csv')\n",
    "    >>> print(type(titanic_X))\n",
    "    <class 'numpy.ndarray'>\n",
    "    >>> print(type(titanic_y))\n",
    "    <class 'numpy.ndarray'>\n",
    "    >>> print(titanic_X.shape)\n",
    "    (891,11)\n",
    "    >>> print(titanic_y.shape)\n",
    "    (891,)\n",
    "    \"\"\"\n",
    "    ### BEGIN SOLUTION\n",
    "    ### END SOLUTION"
   ]
  },
  {
   "cell_type": "markdown",
   "metadata": {},
   "source": [
    "## Given `house-prices-train.csv` in working directory, extract `SalePrice` as target vector and other variables as feature matrix.\n",
    "\n",
    "- Expected inputs: a CSV file `house-prices-train.csv`.\n",
    "- Expected outputs: a (1460, 80) ndarray and a (,) ndarray."
   ]
  },
  {
   "cell_type": "code",
   "execution_count": 3,
   "metadata": {},
   "outputs": [],
   "source": [
    "def extract_house_prices_X_y(csv_file):\n",
    "    \"\"\"\n",
    "    >>> house_prices_X, house_prices_y = extract_house_prices_X_y('house-prices-train.csv')\n",
    "    >>> print(type(house_prices_X))\n",
    "    <class 'numpy.ndarray'>\n",
    "    >>> print(type(house_prices_y))\n",
    "    <class 'numpy.ndarray'>\n",
    "    >>> print(house_prices_X.shape)\n",
    "    (1460, 80)\n",
    "    >>> print(house_prices_y.shape)\n",
    "    (1460,)\n",
    "    \"\"\"\n",
    "    ### BEGIN SOLUTION\n",
    "    ### END SOLUTION"
   ]
  },
  {
   "cell_type": "markdown",
   "metadata": {
    "deletable": false,
    "editable": false
   },
   "source": [
    "## Run tests!\n",
    "\n",
    "Kernel -> Restart & Run All."
   ]
  },
  {
   "cell_type": "code",
   "execution_count": 4,
   "metadata": {
    "deletable": false,
    "editable": false
   },
   "outputs": [
    {
     "name": "stderr",
     "output_type": "stream",
     "text": [
      "test_extract_house_prices_X_y (__main__.TestExtractFeatureMatrixTargetVector) ... ERROR\n",
      "test_extract_titanic_X_y (__main__.TestExtractFeatureMatrixTargetVector) ... ERROR\n",
      "\n",
      "======================================================================\n",
      "ERROR: test_extract_house_prices_X_y (__main__.TestExtractFeatureMatrixTargetVector)\n",
      "----------------------------------------------------------------------\n",
      "Traceback (most recent call last):\n",
      "  File \"<ipython-input-4-4bee65fe94aa>\", line 11, in test_extract_house_prices_X_y\n",
      "    house_prices_X, house_prices_y = extract_house_prices_X_y('house-prices-train.csv')\n",
      "TypeError: 'NoneType' object is not iterable\n",
      "\n",
      "======================================================================\n",
      "ERROR: test_extract_titanic_X_y (__main__.TestExtractFeatureMatrixTargetVector)\n",
      "----------------------------------------------------------------------\n",
      "Traceback (most recent call last):\n",
      "  File \"<ipython-input-4-4bee65fe94aa>\", line 5, in test_extract_titanic_X_y\n",
      "    titanic_X, titanic_y = extract_titanic_X_y('titanic-train.csv')\n",
      "TypeError: 'NoneType' object is not iterable\n",
      "\n",
      "----------------------------------------------------------------------\n",
      "Ran 2 tests in 0.005s\n",
      "\n",
      "FAILED (errors=2)\n"
     ]
    }
   ],
   "source": [
    "import unittest\n",
    "\n",
    "class TestExtractFeatureMatrixTargetVector(unittest.TestCase):\n",
    "    def test_extract_titanic_X_y(self):\n",
    "        titanic_X, titanic_y = extract_titanic_X_y('titanic-train.csv')\n",
    "        self.assertIsInstance(titanic_X, np.ndarray)\n",
    "        self.assertIsInstance(titanic_y, np.ndarray)\n",
    "        self.assertEqual(titanic_X.shape, (891, 11))\n",
    "        self.assertEqual(titanic_y.shape, (891,))\n",
    "    def test_extract_house_prices_X_y(self):\n",
    "        house_prices_X, house_prices_y = extract_house_prices_X_y('house-prices-train.csv')\n",
    "        self.assertIsInstance(house_prices_X, np.ndarray)\n",
    "        self.assertIsInstance(house_prices_y, np.ndarray)\n",
    "        self.assertEqual(house_prices_X.shape, (1460, 80))\n",
    "        self.assertEqual(house_prices_y.shape, (1460,))\n",
    "\n",
    "suite = unittest.TestLoader().loadTestsFromTestCase(TestExtractFeatureMatrixTargetVector)\n",
    "runner = unittest.TextTestRunner(verbosity=2)\n",
    "test_results = runner.run(suite)\n",
    "number_of_failures = len(test_results.failures)\n",
    "number_of_errors = len(test_results.errors)\n",
    "number_of_test_runs = test_results.testsRun\n",
    "number_of_successes = number_of_test_runs - (number_of_failures + number_of_errors)\n",
    "total_points = number_of_successes * 2"
   ]
  },
  {
   "cell_type": "code",
   "execution_count": 5,
   "metadata": {
    "deletable": false,
    "editable": false
   },
   "outputs": [
    {
     "name": "stdout",
     "output_type": "stream",
     "text": [
      "You've got 0 successes out of 2 exercises.\n"
     ]
    }
   ],
   "source": [
    "print(\"You've got {} successes out of {} exercises.\".format(number_of_successes, number_of_test_runs))"
   ]
  }
 ],
 "metadata": {
  "kernelspec": {
   "display_name": "Python Data Analysis",
   "language": "python",
   "name": "pyda"
  },
  "language_info": {
   "codemirror_mode": {
    "name": "ipython",
    "version": 3
   },
   "file_extension": ".py",
   "mimetype": "text/x-python",
   "name": "python",
   "nbconvert_exporter": "python",
   "pygments_lexer": "ipython3",
   "version": "3.6.8"
  }
 },
 "nbformat": 4,
 "nbformat_minor": 4
}
