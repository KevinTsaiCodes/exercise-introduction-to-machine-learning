{
 "cells": [
  {
   "cell_type": "markdown",
   "metadata": {
    "deletable": false
   },
   "source": [
    "##  Python Data Science\n",
    "\n",
    "> Introduction to Machine Learning\n",
    "\n",
    "Kuo, Yao-Jen <yaojenkuo@datainpoint.com> from [DATAINPOINT](https://www.datainpoint.com)"
   ]
  },
  {
   "cell_type": "code",
   "execution_count": 1,
   "metadata": {
    "deletable": false,
    "editable": false
   },
   "outputs": [],
   "source": [
    "import numpy as np\n",
    "import pandas as pd"
   ]
  },
  {
   "cell_type": "markdown",
   "metadata": {},
   "source": [
    "## The ongoing COVID-19 pandemic has been affected more than `w` countries worldwide, more than `x` cases have been reported, resulting in more than `y` deaths, more than `z` people have recovered. Define a function named `covid19_pandemic` that is able to summarize these 4 numbers as of 2020-10-31.\n",
    "\n",
    "- Expected inputs: a CSV file `10-31-2020.csv`.\n",
    "- Expected outputs: a dict with length 4."
   ]
  },
  {
   "cell_type": "code",
   "execution_count": 2,
   "metadata": {},
   "outputs": [],
   "source": [
    "def covid19_pandemic(csv_file_path):\n",
    "    \"\"\"\n",
    "    >>> pandemic_summary = covid19_pandemic('10-31-2020.csv')\n",
    "    >>> print(type(pandemic_summary))\n",
    "    dict\n",
    "    >>> print(len(pandemic_summary))\n",
    "    4\n",
    "    >>> print(pandemic_summary['w'])\n",
    "    190\n",
    "    >>> print(pandemic_summary['x'])\n",
    "    46070447\n",
    "    >>> print(pandemic_summary['y'])\n",
    "    1195426\n",
    "    >>> print(pandemic_summary['z'])\n",
    "    30820223\n",
    "    \"\"\"\n",
    "    ### BEGIN SOLUTION\n",
    "    ### END SOLUTION"
   ]
  },
  {
   "cell_type": "markdown",
   "metadata": {},
   "source": [
    "## Define a function named `find_most_confirmed_countries` that is able to summarize the top 10 most confirmed cases by country as of 2020-10-31.\n",
    "\n",
    "- Expected inputs: a CSV file `10-31-2020.csv`.\n",
    "- Expected outputs: a Series with a size of 10."
   ]
  },
  {
   "cell_type": "code",
   "execution_count": 3,
   "metadata": {},
   "outputs": [],
   "source": [
    "def find_most_confirmed_countries(csv_file_path):\n",
    "    \"\"\"\n",
    "    >>> most_confirmed_countries = find_most_confirmed_countries('10-31-2020.csv')\n",
    "    >>> print(type(most_confirmed_countries))\n",
    "    <class 'pandas.core.series.Series'>\n",
    "    >>> print(most_confirmed_countries.size)\n",
    "    10\n",
    "    >>> print(most_confirmed_countries)\n",
    "    Country_Region\n",
    "    US                9133404\n",
    "    India             8184082\n",
    "    Brazil            5535605\n",
    "    Russia            1606267\n",
    "    France            1412709\n",
    "    Spain             1185678\n",
    "    Argentina         1166924\n",
    "    Colombia          1073809\n",
    "    United Kingdom    1014793\n",
    "    Mexico             924962\n",
    "    Name: Confirmed, dtype: int64\n",
    "    >>> print(most_confirmed_countries['US'])\n",
    "    9133404\n",
    "    >>> print(most_confirmed_countries['India'])\n",
    "    8184082\n",
    "    >>> print(most_confirmed_countries['United Kingdom'])\n",
    "    1014793\n",
    "    >>> print(most_confirmed_countries['Mexico'])\n",
    "    924962\n",
    "    \"\"\"\n",
    "    ### BEGIN SOLUTION\n",
    "    ### END SOLUTION"
   ]
  },
  {
   "cell_type": "markdown",
   "metadata": {},
   "source": [
    "## Define a function named `calculate_daily_increase` that is able to calculate the daily increase of confirmed cases for Taiwan from 2020-01-23 to 2020-10-31.\n",
    "\n",
    "- Expected inputs: a CSV file `time_series_covid19_confirmed_global.csv`.\n",
    "- Expected outputs: a (284, 3) DataFrame."
   ]
  },
  {
   "cell_type": "code",
   "execution_count": 4,
   "metadata": {},
   "outputs": [],
   "source": [
    "def calculate_daily_increase(csv_file_path):\n",
    "    \"\"\"\n",
    "    >>> daily_increase_tw = calculate_daily_increase('time_series_covid19_confirmed_global.csv')\n",
    "    >>> print(type(daily_increase_tw))\n",
    "    <class 'pandas.core.frame.DataFrame'>\n",
    "    >>> print(daily_increase_tw.shape)\n",
    "    (284, 3)\n",
    "    >>> print(daily_increase_tw)\n",
    "             date cumulative  daily_increase\n",
    "    0     1/22/20          1             NaN\n",
    "    1     1/23/20          1             0.0\n",
    "    2     1/24/20          3             2.0\n",
    "    3     1/25/20          3             0.0\n",
    "    4     1/26/20          4             1.0\n",
    "    ..        ...        ...             ...\n",
    "    279  10/27/20        550             0.0\n",
    "    280  10/28/20        550             0.0\n",
    "    281  10/29/20        553             3.0\n",
    "    282  10/30/20        554             1.0\n",
    "    283  10/31/20        555             1.0\n",
    "\n",
    "    [284 rows x 3 columns]\n",
    "    \"\"\"\n",
    "    ### BEGIN SOLUTION\n",
    "    ### END SOLUTION"
   ]
  },
  {
   "cell_type": "markdown",
   "metadata": {},
   "source": [
    "## Define a function named `presidential_2020_summary` that is able to summarize the national voting summary for Presidential Election of Taiwan in 2020.\n",
    "\n",
    "- Expected inputs: a CSV file `presidential.csv`.\n",
    "- Expected outputs: a (3, 3) DataFrame."
   ]
  },
  {
   "cell_type": "code",
   "execution_count": 5,
   "metadata": {},
   "outputs": [],
   "source": [
    "def presidential_2020_summary(csv_file_path):\n",
    "    \"\"\"\n",
    "    >>> summary = presidential_2020_summary('presidential.csv')\n",
    "    >>> print(type(summary))\n",
    "    <class 'pandas.core.frame.DataFrame'>\n",
    "    >>> print(summary.shape)\n",
    "    (3, 3)\n",
    "    >>> print(summary)\n",
    "       number candidate    votes\n",
    "    0       1    宋楚瑜/余湘   608590\n",
    "    1       2   韓國瑜/張善政  5522119\n",
    "    2       3   蔡英文/賴清德  8170231\n",
    "    \"\"\"\n",
    "    ### BEGIN SOLUTION\n",
    "    ### END SOLUTION"
   ]
  },
  {
   "cell_type": "markdown",
   "metadata": {},
   "source": [
    "## Define a function named `summary_by_county_type` that is able to summarize the voting summary by \"六都\" and \"非六都\" for Presidential Election of Taiwan in 2020.\n",
    "\n",
    "- Expected inputs: a CSV file `presidential.csv`.\n",
    "- Expected outputs: a (6, 3) DataFrame."
   ]
  },
  {
   "cell_type": "code",
   "execution_count": 6,
   "metadata": {},
   "outputs": [],
   "source": [
    "def summary_by_county_type(csv_file_path):\n",
    "    \"\"\"\n",
    "    >>> summary = summary_by_county_type('presidential.csv')\n",
    "    >>> print(type(summary))\n",
    "    <class 'pandas.core.frame.DataFrame'>\n",
    "    >>> print(summary.shape)\n",
    "    (6, 3)\n",
    "    >>> print(summary)\n",
    "      county_type candidate    votes\n",
    "    0          六都    宋楚瑜/余湘   427705\n",
    "    1          六都   韓國瑜/張善政  3772174\n",
    "    2          六都   蔡英文/賴清德  5839446\n",
    "    3         非六都    宋楚瑜/余湘   180885\n",
    "    4         非六都   韓國瑜/張善政  1749945\n",
    "    5         非六都   蔡英文/賴清德  2330785\n",
    "    \"\"\"\n",
    "    ### BEGIN SOLUTION\n",
    "    ### END SOLUTION"
   ]
  },
  {
   "cell_type": "markdown",
   "metadata": {
    "deletable": false,
    "editable": false
   },
   "source": [
    "## Run tests!\n",
    "\n",
    "Kernel -> Restart & Run All."
   ]
  },
  {
   "cell_type": "code",
   "execution_count": 7,
   "metadata": {
    "deletable": false,
    "editable": false
   },
   "outputs": [
    {
     "name": "stderr",
     "output_type": "stream",
     "text": [
      "test_calculate_daily_increase (__main__.TestAdvancedPandas) ... FAIL\n",
      "test_covid19_pandemic (__main__.TestAdvancedPandas) ... FAIL\n",
      "test_find_most_confirmed_countries (__main__.TestAdvancedPandas) ... FAIL\n",
      "test_presidential_2020_summary (__main__.TestAdvancedPandas) ... FAIL\n",
      "test_summary_by_county_type (__main__.TestAdvancedPandas) ... FAIL\n",
      "\n",
      "======================================================================\n",
      "FAIL: test_calculate_daily_increase (__main__.TestAdvancedPandas)\n",
      "----------------------------------------------------------------------\n",
      "Traceback (most recent call last):\n",
      "  File \"<ipython-input-7-34b66f8e68b5>\", line 22, in test_calculate_daily_increase\n",
      "    self.assertIsInstance(daily_increase_tw, pd.core.frame.DataFrame)\n",
      "AssertionError: None is not an instance of <class 'pandas.core.frame.DataFrame'>\n",
      "\n",
      "======================================================================\n",
      "FAIL: test_covid19_pandemic (__main__.TestAdvancedPandas)\n",
      "----------------------------------------------------------------------\n",
      "Traceback (most recent call last):\n",
      "  File \"<ipython-input-7-34b66f8e68b5>\", line 6, in test_covid19_pandemic\n",
      "    self.assertIsInstance(pandemic_summary, dict)\n",
      "AssertionError: None is not an instance of <class 'dict'>\n",
      "\n",
      "======================================================================\n",
      "FAIL: test_find_most_confirmed_countries (__main__.TestAdvancedPandas)\n",
      "----------------------------------------------------------------------\n",
      "Traceback (most recent call last):\n",
      "  File \"<ipython-input-7-34b66f8e68b5>\", line 14, in test_find_most_confirmed_countries\n",
      "    self.assertIsInstance(most_confirmed_countries, pd.core.series.Series)\n",
      "AssertionError: None is not an instance of <class 'pandas.core.series.Series'>\n",
      "\n",
      "======================================================================\n",
      "FAIL: test_presidential_2020_summary (__main__.TestAdvancedPandas)\n",
      "----------------------------------------------------------------------\n",
      "Traceback (most recent call last):\n",
      "  File \"<ipython-input-7-34b66f8e68b5>\", line 38, in test_presidential_2020_summary\n",
      "    self.assertIsInstance(summary, pd.core.frame.DataFrame)\n",
      "AssertionError: None is not an instance of <class 'pandas.core.frame.DataFrame'>\n",
      "\n",
      "======================================================================\n",
      "FAIL: test_summary_by_county_type (__main__.TestAdvancedPandas)\n",
      "----------------------------------------------------------------------\n",
      "Traceback (most recent call last):\n",
      "  File \"<ipython-input-7-34b66f8e68b5>\", line 48, in test_summary_by_county_type\n",
      "    self.assertIsInstance(summary, pd.core.frame.DataFrame)\n",
      "AssertionError: None is not an instance of <class 'pandas.core.frame.DataFrame'>\n",
      "\n",
      "----------------------------------------------------------------------\n",
      "Ran 5 tests in 0.019s\n",
      "\n",
      "FAILED (failures=5)\n"
     ]
    }
   ],
   "source": [
    "import unittest\n",
    "\n",
    "class TestAdvancedPandas(unittest.TestCase):\n",
    "    def test_covid19_pandemic(self):\n",
    "        pandemic_summary = covid19_pandemic('10-31-2020.csv')\n",
    "        self.assertIsInstance(pandemic_summary, dict)\n",
    "        self.assertEqual(len(pandemic_summary), 4)\n",
    "        self.assertEqual(pandemic_summary['w'], 190)\n",
    "        self.assertEqual(pandemic_summary['x'], 46070447)\n",
    "        self.assertEqual(pandemic_summary['y'], 1195426)\n",
    "        self.assertEqual(pandemic_summary['z'], 30820223)\n",
    "    def test_find_most_confirmed_countries(self):\n",
    "        most_confirmed_countries = find_most_confirmed_countries('10-31-2020.csv')\n",
    "        self.assertIsInstance(most_confirmed_countries, pd.core.series.Series)\n",
    "        self.assertEqual(most_confirmed_countries.size, 10)\n",
    "        self.assertEqual(most_confirmed_countries['US'], 9133404)\n",
    "        self.assertEqual(most_confirmed_countries['India'], 8184082)\n",
    "        self.assertEqual(most_confirmed_countries['United Kingdom'], 1014793)\n",
    "        self.assertEqual(most_confirmed_countries['Mexico'], 924962)\n",
    "    def test_calculate_daily_increase(self):\n",
    "        daily_increase_tw = calculate_daily_increase('time_series_covid19_confirmed_global.csv')\n",
    "        self.assertIsInstance(daily_increase_tw, pd.core.frame.DataFrame)\n",
    "        self.assertEqual(daily_increase_tw.shape, (284, 3))\n",
    "        np.testing.assert_array_almost_equal(daily_increase_tw['daily_increase'].values[:5], \n",
    "                                             np.array([np.nan, 0., 2., 0., 1.]))\n",
    "        np.testing.assert_array_equal(daily_increase_tw['cumulative'].values[:5], \n",
    "                                             np.array([1, 1, 3, 3, 4]))\n",
    "        np.testing.assert_array_equal(daily_increase_tw['date'].values[:5], \n",
    "                                             np.array(['1/22/20', '1/23/20', '1/24/20', '1/25/20', '1/26/20']))\n",
    "        np.testing.assert_array_almost_equal(daily_increase_tw['daily_increase'].values[-5:], \n",
    "                                             np.array([0., 0., 3., 1., 1.]))\n",
    "        np.testing.assert_array_equal(daily_increase_tw['cumulative'].values[-5:], \n",
    "                                             np.array([550, 550, 553, 554, 555]))\n",
    "        np.testing.assert_array_equal(daily_increase_tw['date'].values[-5:], \n",
    "                                             np.array(['10/27/20', '10/28/20', '10/29/20', '10/30/20', '10/31/20']))\n",
    "    def test_presidential_2020_summary(self):\n",
    "        summary = presidential_2020_summary('presidential.csv')\n",
    "        self.assertIsInstance(summary, pd.core.frame.DataFrame)\n",
    "        self.assertEqual(summary.shape, (3, 3))\n",
    "        np.testing.assert_array_equal(summary['number'].values,\n",
    "                                     np.array([1, 2, 3]))\n",
    "        np.testing.assert_array_equal(summary['votes'].values,\n",
    "                                     np.array([608590, 5522119, 8170231]))\n",
    "        np.testing.assert_array_equal(summary['candidate'].values,\n",
    "                                     np.array(['宋楚瑜/余湘', '韓國瑜/張善政', '蔡英文/賴清德']))\n",
    "    def test_summary_by_county_type(self):\n",
    "        summary = summary_by_county_type('presidential.csv')\n",
    "        self.assertIsInstance(summary, pd.core.frame.DataFrame)\n",
    "        self.assertEqual(summary.shape, (6, 3))\n",
    "        np.testing.assert_array_equal(summary['county_type'].values,\n",
    "                                     np.array(['六都', '六都', '六都', '非六都', '非六都', '非六都']))\n",
    "        np.testing.assert_array_equal(summary['votes'].values,\n",
    "                                     np.array([427705, 3772174, 5839446,  180885, 1749945, 2330785]))\n",
    "\n",
    "suite = unittest.TestLoader().loadTestsFromTestCase(TestAdvancedPandas)\n",
    "runner = unittest.TextTestRunner(verbosity=2)\n",
    "test_results = runner.run(suite)\n",
    "number_of_failures = len(test_results.failures)\n",
    "number_of_errors = len(test_results.errors)\n",
    "number_of_test_runs = test_results.testsRun\n",
    "number_of_successes = number_of_test_runs - (number_of_failures + number_of_errors)\n",
    "total_points = number_of_successes * 2"
   ]
  },
  {
   "cell_type": "code",
   "execution_count": 8,
   "metadata": {
    "deletable": false,
    "editable": false
   },
   "outputs": [
    {
     "name": "stdout",
     "output_type": "stream",
     "text": [
      "You've got 0 successes with 0 points.\n"
     ]
    }
   ],
   "source": [
    "print(\"You've got {} successes with {} points.\".format(number_of_successes, total_points))"
   ]
  }
 ],
 "metadata": {
  "celltoolbar": "Edit Metadata",
  "kernelspec": {
   "display_name": "Python Data Analysis",
   "language": "python",
   "name": "pyda"
  },
  "language_info": {
   "codemirror_mode": {
    "name": "ipython",
    "version": 3
   },
   "file_extension": ".py",
   "mimetype": "text/x-python",
   "name": "python",
   "nbconvert_exporter": "python",
   "pygments_lexer": "ipython3",
   "version": "3.6.8"
  }
 },
 "nbformat": 4,
 "nbformat_minor": 4
}
