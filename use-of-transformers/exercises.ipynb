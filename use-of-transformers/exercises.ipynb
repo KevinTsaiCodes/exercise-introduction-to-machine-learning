{
 "cells": [
  {
   "cell_type": "markdown",
   "metadata": {
    "deletable": false,
    "editable": false
   },
   "source": [
    "##  Python Data Science\n",
    "\n",
    "> Introduction to Machine Learning\n",
    "\n",
    "Kuo, Yao-Jen <yaojenkuo@datainpoint.com> from [DATAINPOINT](https://www.datainpoint.com)"
   ]
  },
  {
   "cell_type": "code",
   "execution_count": 1,
   "metadata": {
    "deletable": false,
    "editable": false
   },
   "outputs": [],
   "source": [
    "import numpy as np\n",
    "import pandas as pd\n",
    "from sklearn.preprocessing import StandardScaler\n",
    "from sklearn.preprocessing import MinMaxScaler\n",
    "from sklearn.preprocessing import PolynomialFeatures"
   ]
  },
  {
   "cell_type": "markdown",
   "metadata": {},
   "source": [
    "## Given `titanic-train.csv` in working directory, extract `Fare` as the feature matrix and apply `StandardScaler` on it.\n",
    "\n",
    "- Expected inputs: a CSV file `titanic-train.csv`.\n",
    "- Expected outputs: a (891, 1) ndarray."
   ]
  },
  {
   "cell_type": "code",
   "execution_count": 2,
   "metadata": {},
   "outputs": [],
   "source": [
    "def get_standard_scaled_fare(csv_file):\n",
    "    \"\"\"\n",
    "    >>> standard_scaled_fare = get_standard_scaled_fare('titanic-train.csv')\n",
    "    >>> print(type(standard_scaled_fare))\n",
    "    <class 'numpy.ndarray'>\n",
    "    >>> print(standard_scaled_fare.shape)\n",
    "    (891, 1)\n",
    "    >>> print(standard_scaled_fare[:5])\n",
    "    [[-0.50244517]\n",
    "     [ 0.78684529]\n",
    "     [-0.48885426]\n",
    "     [ 0.42073024]\n",
    "     [-0.48633742]]\n",
    "    >>> print(standard_scaled_fare.std())\n",
    "    1.0\n",
    "    >>> print(standard_scaled_fare.max())\n",
    "    9.667166525013505\n",
    "    >>> print(standard_scaled_fare.min())\n",
    "    -0.6484216535389205\n",
    "    \"\"\"\n",
    "    ### BEGIN SOLUTION\n",
    "    ### END SOLUTION"
   ]
  },
  {
   "cell_type": "markdown",
   "metadata": {},
   "source": [
    "## Following the previous question, what are the mean and standard deviation of `Fare` that the `StandardScaler` adopts?\n",
    "\n",
    "- Expected inputs: a CSV file `titanic-train.csv`.\n",
    "- Expected outputs: a dict with length of 2."
   ]
  },
  {
   "cell_type": "code",
   "execution_count": 3,
   "metadata": {},
   "outputs": [],
   "source": [
    "def get_fare_mean_std(csv_file):\n",
    "    \"\"\"\n",
    "    >>> fare_mean_std = get_fare_mean_std('titanic-train.csv')\n",
    "    >>> print(type(fare_mean_std))\n",
    "    <class 'dict'>\n",
    "    >>> print(fare_mean_std['mean'])\n",
    "    32.20420797\n",
    "    >>> print(fare_mean_std['std'])\n",
    "    49.66553444\n",
    "    \"\"\"\n",
    "    ### BEGIN SOLUTION\n",
    "    ### END SOLUTION"
   ]
  },
  {
   "cell_type": "markdown",
   "metadata": {},
   "source": [
    "## Given `house-prices-train.csv` in working directory, extract `GrLivArea` as the feature matrix and apply `MinMaxScaler` on it. \n",
    "\n",
    "- Expected inputs: a CSV file `house-prices-train.csv`.\n",
    "- Expected outputs: a (1460, 1) ndarray."
   ]
  },
  {
   "cell_type": "code",
   "execution_count": 4,
   "metadata": {},
   "outputs": [],
   "source": [
    "def get_min_max_scaled_gr_liv_area(csv_file):\n",
    "    \"\"\"\n",
    "    >>> min_max_scaled_gr_liv_area = get_min_max_scaled_gr_liv_area('house-prices-train.csv')\n",
    "    >>> print(type(min_max_scaled_gr_liv_area))\n",
    "    <class 'numpy.ndarray'>\n",
    "    >>> print(min_max_scaled_gr_liv_area.shape)\n",
    "    (1460, 1)\n",
    "    >>> print(min_max_scaled_gr_liv_area)\n",
    "    [[0.25923135]\n",
    "     [0.17483044]\n",
    "     [0.27354936]\n",
    "     ...\n",
    "     [0.37792012]\n",
    "     [0.14016579]\n",
    "     [0.17370008]]\n",
    "    >>> print(min_max_scaled_gr_liv_area.max())\n",
    "    1.0\n",
    "    >>> print(min_max_scaled_gr_liv_area.min())\n",
    "    0.0\n",
    "    \"\"\"\n",
    "    ### BEGIN SOLUTION\n",
    "    ### END SOLUTION"
   ]
  },
  {
   "cell_type": "markdown",
   "metadata": {},
   "source": [
    "## Following the previous question, what are the min and max values of `GrLivArea` that the `MinMaxScaler` adopts?\n",
    "\n",
    "- Expected inputs: a CSV file `house-prices-train.csv`.\n",
    "- Expected outputs: a dict with length of 2."
   ]
  },
  {
   "cell_type": "code",
   "execution_count": 5,
   "metadata": {},
   "outputs": [],
   "source": [
    "def get_gr_liv_area_min_max(csv_file):\n",
    "    \"\"\"\n",
    "    >>> gr_liv_area_min_max = get_gr_liv_area_min_max('house-prices-train.csv')\n",
    "    >>> print(type(gr_liv_area_min_max))\n",
    "    <class 'dict'>\n",
    "    >>> print(gr_liv_area_min_max['min'])\n",
    "    334.0\n",
    "    >>> print(gr_liv_area_min_max['max'])\n",
    "    5642.0\n",
    "    \"\"\"\n",
    "    ### BEGIN SOLUTION\n",
    "    ### END SOLUTION"
   ]
  },
  {
   "cell_type": "markdown",
   "metadata": {},
   "source": [
    "## Given `house-prices-train.csv` in working directory, extract `GrLivArea` as the feature matrix and apply `PolynomialFeatures` on it with a hyperparameter `degree=3` adding intercepts, linear, and non-linear attributes to the feature matrix. \n",
    "\n",
    "- Expected inputs: a CSV file `house-prices-train.csv`.\n",
    "- Expected outputs: a (1460, 4) ndarray."
   ]
  },
  {
   "cell_type": "code",
   "execution_count": 6,
   "metadata": {},
   "outputs": [],
   "source": [
    "def get_polynomial_gr_liv_area(csv_file):\n",
    "    \"\"\"\n",
    "    >>> polynomial_gr_liv_area = get_polynomial_gr_liv_area('house-prices-train.csv')\n",
    "    >>> print(type(polynomial_gr_liv_area))\n",
    "    <class 'numpy.ndarray'>\n",
    "    >>> print(polynomial_gr_liv_area.shape)\n",
    "    (1460, 4)\n",
    "    >>> print(polynomial_gr_liv_area)\n",
    "    array([[1.00000000e+00, 1.71000000e+03, 2.92410000e+06, 5.00021100e+09],\n",
    "           [1.00000000e+00, 1.26200000e+03, 1.59264400e+06, 2.00991673e+09],\n",
    "           [1.00000000e+00, 1.78600000e+03, 3.18979600e+06, 5.69697566e+09],\n",
    "           ...,\n",
    "           [1.00000000e+00, 2.34000000e+03, 5.47560000e+06, 1.28129040e+10],\n",
    "           [1.00000000e+00, 1.07800000e+03, 1.16208400e+06, 1.25272655e+09],\n",
    "           [1.00000000e+00, 1.25600000e+03, 1.57753600e+06, 1.98138522e+09]])\n",
    "    \"\"\"\n",
    "    ### BEGIN SOLUTION\n",
    "    ### END SOLUTION"
   ]
  },
  {
   "cell_type": "markdown",
   "metadata": {
    "deletable": false,
    "editable": false
   },
   "source": [
    "## Run tests!\n",
    "\n",
    "Kernel -> Restart & Run All."
   ]
  },
  {
   "cell_type": "code",
   "execution_count": 7,
   "metadata": {
    "deletable": false,
    "editable": false
   },
   "outputs": [
    {
     "name": "stderr",
     "output_type": "stream",
     "text": [
      "test_get_fare_mean_std (__main__.TestUseOfTransformers) ... FAIL\n",
      "test_get_gr_liv_area_min_max (__main__.TestUseOfTransformers) ... FAIL\n",
      "test_get_min_max_scaled_gr_liv_area (__main__.TestUseOfTransformers) ... FAIL\n",
      "test_get_polynomial_gr_liv_area (__main__.TestUseOfTransformers) ... FAIL\n",
      "test_get_standard_scaled_fare (__main__.TestUseOfTransformers) ... FAIL\n",
      "\n",
      "======================================================================\n",
      "FAIL: test_get_fare_mean_std (__main__.TestUseOfTransformers)\n",
      "----------------------------------------------------------------------\n",
      "Traceback (most recent call last):\n",
      "  File \"<ipython-input-7-6489ad9cd8a9>\", line 13, in test_get_fare_mean_std\n",
      "    self.assertIsInstance(fare_mean_std, dict)\n",
      "AssertionError: None is not an instance of <class 'dict'>\n",
      "\n",
      "======================================================================\n",
      "FAIL: test_get_gr_liv_area_min_max (__main__.TestUseOfTransformers)\n",
      "----------------------------------------------------------------------\n",
      "Traceback (most recent call last):\n",
      "  File \"<ipython-input-7-6489ad9cd8a9>\", line 23, in test_get_gr_liv_area_min_max\n",
      "    self.assertIsInstance(gr_liv_area_min_max, dict)\n",
      "AssertionError: None is not an instance of <class 'dict'>\n",
      "\n",
      "======================================================================\n",
      "FAIL: test_get_min_max_scaled_gr_liv_area (__main__.TestUseOfTransformers)\n",
      "----------------------------------------------------------------------\n",
      "Traceback (most recent call last):\n",
      "  File \"<ipython-input-7-6489ad9cd8a9>\", line 18, in test_get_min_max_scaled_gr_liv_area\n",
      "    self.assertIsInstance(min_max_scaled_gr_liv_area, np.ndarray)\n",
      "AssertionError: None is not an instance of <class 'numpy.ndarray'>\n",
      "\n",
      "======================================================================\n",
      "FAIL: test_get_polynomial_gr_liv_area (__main__.TestUseOfTransformers)\n",
      "----------------------------------------------------------------------\n",
      "Traceback (most recent call last):\n",
      "  File \"<ipython-input-7-6489ad9cd8a9>\", line 28, in test_get_polynomial_gr_liv_area\n",
      "    self.assertIsInstance(polynomial_gr_liv_area, np.ndarray)\n",
      "AssertionError: None is not an instance of <class 'numpy.ndarray'>\n",
      "\n",
      "======================================================================\n",
      "FAIL: test_get_standard_scaled_fare (__main__.TestUseOfTransformers)\n",
      "----------------------------------------------------------------------\n",
      "Traceback (most recent call last):\n",
      "  File \"<ipython-input-7-6489ad9cd8a9>\", line 6, in test_get_standard_scaled_fare\n",
      "    self.assertIsInstance(standard_scaled_fare, np.ndarray)\n",
      "AssertionError: None is not an instance of <class 'numpy.ndarray'>\n",
      "\n",
      "----------------------------------------------------------------------\n",
      "Ran 5 tests in 0.010s\n",
      "\n",
      "FAILED (failures=5)\n"
     ]
    }
   ],
   "source": [
    "import unittest\n",
    "\n",
    "class TestUseOfTransformers(unittest.TestCase):\n",
    "    def test_get_standard_scaled_fare(self):\n",
    "        standard_scaled_fare = get_standard_scaled_fare('titanic-train.csv')\n",
    "        self.assertIsInstance(standard_scaled_fare, np.ndarray)\n",
    "        self.assertEqual(standard_scaled_fare.shape, (891, 1))\n",
    "        self.assertAlmostEqual(standard_scaled_fare.std(), 1.0)\n",
    "        self.assertAlmostEqual(standard_scaled_fare.max(), 9.667166525013505)\n",
    "        self.assertAlmostEqual(standard_scaled_fare.min(), -0.6484216535389205)\n",
    "    def test_get_fare_mean_std(self):\n",
    "        fare_mean_std = get_fare_mean_std('titanic-train.csv')\n",
    "        self.assertIsInstance(fare_mean_std, dict)\n",
    "        self.assertAlmostEqual(fare_mean_std['mean'], 32.20420797)\n",
    "        self.assertAlmostEqual(fare_mean_std['std'], 49.66553444)\n",
    "    def test_get_min_max_scaled_gr_liv_area(self):\n",
    "        min_max_scaled_gr_liv_area = get_min_max_scaled_gr_liv_area('house-prices-train.csv')\n",
    "        self.assertIsInstance(min_max_scaled_gr_liv_area, np.ndarray)\n",
    "        self.assertAlmostEqual(min_max_scaled_gr_liv_area.max(), 1.0)\n",
    "        self.assertAlmostEqual(min_max_scaled_gr_liv_area.min(), 0.0)\n",
    "    def test_get_gr_liv_area_min_max(self):\n",
    "        gr_liv_area_min_max = get_gr_liv_area_min_max('house-prices-train.csv')\n",
    "        self.assertIsInstance(gr_liv_area_min_max, dict)\n",
    "        self.assertAlmostEqual(gr_liv_area_min_max['min'], 334.0)\n",
    "        self.assertAlmostEqual(gr_liv_area_min_max['max'], 5642.0)\n",
    "    def test_get_polynomial_gr_liv_area(self):\n",
    "        polynomial_gr_liv_area = get_polynomial_gr_liv_area('house-prices-train.csv')\n",
    "        self.assertIsInstance(polynomial_gr_liv_area, np.ndarray)\n",
    "        self.assertEqual(polynomial_gr_liv_area.shape, (1460, 4))\n",
    "        self.assertAlmostEqual(polynomial_gr_liv_area[:, 0].mean(), 1.0)\n",
    "        self.assertAlmostEqual(polynomial_gr_liv_area[:, 1].mean(), 1515.463698630137)\n",
    "        self.assertAlmostEqual(polynomial_gr_liv_area[:, 2].mean(), 2572570.7253424656)\n",
    "        self.assertAlmostEqual(polynomial_gr_liv_area[:, 3].mean(), 4932874793.497945)\n",
    "\n",
    "suite = unittest.TestLoader().loadTestsFromTestCase(TestUseOfTransformers)\n",
    "runner = unittest.TextTestRunner(verbosity=2)\n",
    "test_results = runner.run(suite)\n",
    "number_of_failures = len(test_results.failures)\n",
    "number_of_errors = len(test_results.errors)\n",
    "number_of_test_runs = test_results.testsRun\n",
    "number_of_successes = number_of_test_runs - (number_of_failures + number_of_errors)\n",
    "total_points = number_of_successes * 2"
   ]
  },
  {
   "cell_type": "code",
   "execution_count": 8,
   "metadata": {
    "deletable": false,
    "editable": false
   },
   "outputs": [
    {
     "name": "stdout",
     "output_type": "stream",
     "text": [
      "You've got 0 successes out of 5 exercises.\n"
     ]
    }
   ],
   "source": [
    "print(\"You've got {} successes out of {} exercises.\".format(number_of_successes, number_of_test_runs))"
   ]
  }
 ],
 "metadata": {
  "kernelspec": {
   "display_name": "Python Machine Learning",
   "language": "python",
   "name": "pyml"
  },
  "language_info": {
   "codemirror_mode": {
    "name": "ipython",
    "version": 3
   },
   "file_extension": ".py",
   "mimetype": "text/x-python",
   "name": "python",
   "nbconvert_exporter": "python",
   "pygments_lexer": "ipython3",
   "version": "3.6.8"
  }
 },
 "nbformat": 4,
 "nbformat_minor": 4
}
