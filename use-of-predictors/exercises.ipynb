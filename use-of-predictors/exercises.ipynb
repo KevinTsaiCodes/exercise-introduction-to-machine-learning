{
 "cells": [
  {
   "cell_type": "markdown",
   "metadata": {
    "deletable": false,
    "editable": false
   },
   "source": [
    "##  Python Data Science\n",
    "\n",
    "> Introduction to Machine Learning\n",
    "\n",
    "Kuo, Yao-Jen <yaojenkuo@datainpoint.com> from [DATAINPOINT](https://www.datainpoint.com)"
   ]
  },
  {
   "cell_type": "code",
   "execution_count": 1,
   "metadata": {
    "deletable": false,
    "editable": false
   },
   "outputs": [],
   "source": [
    "import numpy as np\n",
    "import pandas as pd\n",
    "import sklearn.linear_model\n",
    "from sklearn.model_selection import train_test_split\n",
    "from sklearn.linear_model import LinearRegression\n",
    "from sklearn.linear_model import LogisticRegression"
   ]
  },
  {
   "cell_type": "markdown",
   "metadata": {},
   "source": [
    "## Given `house-prices-train.csv` in working directory, extract `GrLivArea` as the feature matrix, `SalePrice` as the target vector. Split both target vector and feature matrix with 80% as training set, 20% as validation set. Apply `LinearRegression` on the training set to generate a fitted model.\n",
    "\n",
    "- Expected inputs: a CSV file `house-prices-train.csv`.\n",
    "- Expected outputs: an object belongs to `sklearn.linear_model._base.LinearRegression` class."
   ]
  },
  {
   "cell_type": "code",
   "execution_count": 2,
   "metadata": {},
   "outputs": [],
   "source": [
    "def generate_sale_price_model(csv_file):\n",
    "    \"\"\"\n",
    "    >>> sale_price_model = generate_sale_price_model('house-prices-train.csv')\n",
    "    >>> print(type(sale_price_model))\n",
    "    <class 'sklearn.linear_model._base.LinearRegression'>\n",
    "    \"\"\"\n",
    "    ### BEGIN SOLUTION\n",
    "    ### END SOLUTION"
   ]
  },
  {
   "cell_type": "markdown",
   "metadata": {},
   "source": [
    "## Following the previous question, use the model to predict the `SalePrice` for validation set.\n",
    "\n",
    "- Expected inputs: a CSV file `house-prices-train.csv`.\n",
    "- Expected outputs: a (292,) ndarray."
   ]
  },
  {
   "cell_type": "code",
   "execution_count": 3,
   "metadata": {},
   "outputs": [],
   "source": [
    "def predict_sale_price(csv_file):\n",
    "    \"\"\"\n",
    "    >>> sale_price = predict_sale_price('house-prices-train.csv')\n",
    "    >>> print(type(sale_price))\n",
    "    <class 'numpy.ndarray'>\n",
    "    >>> print(sale_price.shape)\n",
    "    (292,)\n",
    "    \"\"\"\n",
    "    ### BEGIN SOLUTION\n",
    "    ### END SOLUTION"
   ]
  },
  {
   "cell_type": "markdown",
   "metadata": {},
   "source": [
    "## Given `titanic-train.csv` in working directory, extract `Fare` as the feature matrix, `Survived` as the target vector. Split both target vector and feature matrix with 80% as training set, 20% as validation set. Apply `LogisticRegression` on the training set to generate a fitted model.\n",
    "\n",
    "- Expected inputs: a CSV file `titanic-train.csv`.\n",
    "- Expected outputs: an object belongs to `sklearn.linear_model._logistic.LogisticRegression` class."
   ]
  },
  {
   "cell_type": "code",
   "execution_count": 4,
   "metadata": {},
   "outputs": [],
   "source": [
    "def generate_survived_model(csv_file):\n",
    "    \"\"\"\n",
    "    >>> survived_model = generate_survived_model('titanic-train.csv')\n",
    "    >>> print(type(survived_model))\n",
    "    <class 'sklearn.linear_model._logistic.LogisticRegression'>\n",
    "    \"\"\"\n",
    "    ### BEGIN SOLUTION\n",
    "    ### END SOLUTION"
   ]
  },
  {
   "cell_type": "markdown",
   "metadata": {},
   "source": [
    "## Following the previous question, use the model to predict the `SalePrice` for validation set.\n",
    "\n",
    "- Expected inputs: a CSV file `titanic-train.csv`.\n",
    "- Expected outputs: a (179,) ndarray."
   ]
  },
  {
   "cell_type": "code",
   "execution_count": 5,
   "metadata": {},
   "outputs": [],
   "source": [
    "def predict_survived(csv_file):\n",
    "    \"\"\"\n",
    "    >>> survived = predict_survived('titanic-train.csv')\n",
    "    >>> print(type(survived))\n",
    "    <class 'numpy.ndarray'>\n",
    "    >>> print(survived.shape)\n",
    "    (179,)\n",
    "    \"\"\"\n",
    "    ### BEGIN SOLUTION\n",
    "    ### END SOLUTION"
   ]
  },
  {
   "cell_type": "markdown",
   "metadata": {
    "deletable": false,
    "editable": false
   },
   "source": [
    "## Run tests!\n",
    "\n",
    "Kernel -> Restart & Run All."
   ]
  },
  {
   "cell_type": "code",
   "execution_count": 6,
   "metadata": {
    "deletable": false,
    "editable": false
   },
   "outputs": [
    {
     "name": "stderr",
     "output_type": "stream",
     "text": [
      "test_generate_sale_price_model (__main__.TestUseOfPredictors) ... FAIL\n",
      "test_generate_survived_model (__main__.TestUseOfPredictors) ... FAIL\n",
      "test_predict_sale_price (__main__.TestUseOfPredictors) ... FAIL\n",
      "test_predict_survived (__main__.TestUseOfPredictors) ... FAIL\n",
      "\n",
      "======================================================================\n",
      "FAIL: test_generate_sale_price_model (__main__.TestUseOfPredictors)\n",
      "----------------------------------------------------------------------\n",
      "Traceback (most recent call last):\n",
      "  File \"<ipython-input-6-8a0ad64506ef>\", line 6, in test_generate_sale_price_model\n",
      "    self.assertIsInstance(sale_price_model, sklearn.linear_model._base.LinearRegression)\n",
      "AssertionError: None is not an instance of <class 'sklearn.linear_model._base.LinearRegression'>\n",
      "\n",
      "======================================================================\n",
      "FAIL: test_generate_survived_model (__main__.TestUseOfPredictors)\n",
      "----------------------------------------------------------------------\n",
      "Traceback (most recent call last):\n",
      "  File \"<ipython-input-6-8a0ad64506ef>\", line 15, in test_generate_survived_model\n",
      "    self.assertIsInstance(survived_model, sklearn.linear_model._logistic.LogisticRegression)\n",
      "AssertionError: None is not an instance of <class 'sklearn.linear_model._logistic.LogisticRegression'>\n",
      "\n",
      "======================================================================\n",
      "FAIL: test_predict_sale_price (__main__.TestUseOfPredictors)\n",
      "----------------------------------------------------------------------\n",
      "Traceback (most recent call last):\n",
      "  File \"<ipython-input-6-8a0ad64506ef>\", line 11, in test_predict_sale_price\n",
      "    self.assertIsInstance(sale_price, np.ndarray)\n",
      "AssertionError: None is not an instance of <class 'numpy.ndarray'>\n",
      "\n",
      "======================================================================\n",
      "FAIL: test_predict_survived (__main__.TestUseOfPredictors)\n",
      "----------------------------------------------------------------------\n",
      "Traceback (most recent call last):\n",
      "  File \"<ipython-input-6-8a0ad64506ef>\", line 20, in test_predict_survived\n",
      "    self.assertIsInstance(survived, np.ndarray)\n",
      "AssertionError: None is not an instance of <class 'numpy.ndarray'>\n",
      "\n",
      "----------------------------------------------------------------------\n",
      "Ran 4 tests in 0.007s\n",
      "\n",
      "FAILED (failures=4)\n"
     ]
    }
   ],
   "source": [
    "import unittest\n",
    "\n",
    "class TestUseOfPredictors(unittest.TestCase):\n",
    "    def test_generate_sale_price_model(self):\n",
    "        sale_price_model = generate_sale_price_model('house-prices-train.csv')\n",
    "        self.assertIsInstance(sale_price_model, sklearn.linear_model._base.LinearRegression)\n",
    "        self.assertTrue(hasattr(sale_price_model, 'fit'))\n",
    "        self.assertTrue(hasattr(sale_price_model, 'predict'))\n",
    "    def test_predict_sale_price(self):\n",
    "        sale_price = predict_sale_price('house-prices-train.csv')\n",
    "        self.assertIsInstance(sale_price, np.ndarray)\n",
    "        self.assertEqual(sale_price.shape, (292,))\n",
    "    def test_generate_survived_model(self):\n",
    "        survived_model = generate_survived_model('titanic-train.csv')\n",
    "        self.assertIsInstance(survived_model, sklearn.linear_model._logistic.LogisticRegression)\n",
    "        self.assertTrue(hasattr(survived_model, 'fit'))\n",
    "        self.assertTrue(hasattr(survived_model, 'predict'))\n",
    "    def test_predict_survived(self):\n",
    "        survived = predict_survived('titanic-train.csv')\n",
    "        self.assertIsInstance(survived, np.ndarray)\n",
    "        self.assertEqual(survived.shape, (179,))\n",
    "\n",
    "suite = unittest.TestLoader().loadTestsFromTestCase(TestUseOfPredictors)\n",
    "runner = unittest.TextTestRunner(verbosity=2)\n",
    "test_results = runner.run(suite)\n",
    "number_of_failures = len(test_results.failures)\n",
    "number_of_errors = len(test_results.errors)\n",
    "number_of_test_runs = test_results.testsRun\n",
    "number_of_successes = number_of_test_runs - (number_of_failures + number_of_errors)\n",
    "total_points = number_of_successes * 2"
   ]
  },
  {
   "cell_type": "code",
   "execution_count": 7,
   "metadata": {
    "deletable": false,
    "editable": false
   },
   "outputs": [
    {
     "name": "stdout",
     "output_type": "stream",
     "text": [
      "You've got 0 successes out of 4 exercises.\n"
     ]
    }
   ],
   "source": [
    "print(\"You've got {} successes out of {} exercises.\".format(number_of_successes, number_of_test_runs))"
   ]
  }
 ],
 "metadata": {
  "kernelspec": {
   "display_name": "Python Machine Learning",
   "language": "python",
   "name": "pyml"
  },
  "language_info": {
   "codemirror_mode": {
    "name": "ipython",
    "version": 3
   },
   "file_extension": ".py",
   "mimetype": "text/x-python",
   "name": "python",
   "nbconvert_exporter": "python",
   "pygments_lexer": "ipython3",
   "version": "3.6.8"
  }
 },
 "nbformat": 4,
 "nbformat_minor": 4
}
