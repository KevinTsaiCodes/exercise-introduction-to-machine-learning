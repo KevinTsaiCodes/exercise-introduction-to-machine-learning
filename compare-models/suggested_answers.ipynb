{
 "cells": [
  {
   "cell_type": "markdown",
   "metadata": {
    "deletable": false,
    "editable": false
   },
   "source": [
    "##  Python Data Science\n",
    "\n",
    "> Introduction to Machine Learning\n",
    "\n",
    "Kuo, Yao-Jen <yaojenkuo@datainpoint.com> from [DATAINPOINT](https://www.datainpoint.com)"
   ]
  },
  {
   "cell_type": "code",
   "execution_count": 1,
   "metadata": {
    "deletable": false,
    "editable": false
   },
   "outputs": [],
   "source": [
    "import numpy as np\n",
    "import pandas as pd\n",
    "import sklearn.linear_model\n",
    "from sklearn.model_selection import train_test_split\n",
    "from sklearn.linear_model import LinearRegression\n",
    "from sklearn.linear_model import LogisticRegression\n",
    "from sklearn.linear_model import Ridge\n",
    "from sklearn.svm import SVC\n",
    "from xgboost import XGBRegressor\n",
    "from xgboost import XGBClassifier\n",
    "from sklearn.metrics import mean_squared_error\n",
    "from sklearn.metrics import accuracy_score"
   ]
  },
  {
   "cell_type": "markdown",
   "metadata": {},
   "source": [
    "## Given `house-prices-train.csv` in working directory, extract `OverallQual` and `GrLivArea` as the feature matrix, `SalePrice` as the target vector. Split both target vector and feature matrix with 80% as training set, 20% as validation set. Use a hyperparameter `random_state=42` to fix the randomness of split. Apply `LinearRegression`, `Ridge`, and `XGBRegressor` on the training set to generate 3 fitted models. Use the model to predict the `SalePrice` for validation set and measure the mean squared error of the 3 models. Log the metrics with a dict.\n",
    "\n",
    "- Expected inputs: a CSV file `house-prices-train.csv`.\n",
    "- Expected outputs: a dict of length 3."
   ]
  },
  {
   "cell_type": "code",
   "execution_count": 2,
   "metadata": {},
   "outputs": [],
   "source": [
    "def get_models_mse(csv_file):\n",
    "    \"\"\"\n",
    "    >>> models_mse = get_models_mse('house-prices-train.csv')\n",
    "    >>> print(type(models_mse))\n",
    "    <class 'dict'>\n",
    "    >>> print(len(models_mse))\n",
    "    3\n",
    "    >>> print(models_mse['LinearRegression'])\n",
    "    1950070708.6601994\n",
    "    >>> print(models_mse['Ridge'])\n",
    "    1950170046.4195352\n",
    "    >>> print(models_mse['XGBRegressor'])\n",
    "    1536931894.3172483\n",
    "    \"\"\"\n",
    "    ### BEGIN SOLUTION\n",
    "    df = pd.read_csv(csv_file)\n",
    "    X = df[['OverallQual', 'GrLivArea']].values\n",
    "    y = df['SalePrice'].values\n",
    "    X_train, X_valid, y_train, y_valid = train_test_split(X, y, test_size=0.2, random_state=42)\n",
    "    model_names = ['LinearRegression', 'Ridge', 'XGBRegressor']\n",
    "    models = [LinearRegression(), Ridge(), XGBRegressor()]\n",
    "    metrics = dict()\n",
    "    for model, model_name in zip(models, model_names):\n",
    "        model.fit(X_train, y_train)\n",
    "        y_hat = model.predict(X_valid)\n",
    "        metrics[model_name] = mean_squared_error(y_valid, y_hat)\n",
    "    return metrics\n",
    "    ### END SOLUTION"
   ]
  },
  {
   "cell_type": "markdown",
   "metadata": {},
   "source": [
    "## Following the previous question, choose the best one among 3 models(the lower mean squared error, the better). Use the best model to predict `SalePrice` for `house-prices-test.csv`. Generate a (1459, 2) DataFrame that is ready for submission.\n",
    "\n",
    "- Expected inputs: 2 CSV files `house-prices-train.csv` and `house-prices-test.csv`.\n",
    "- Expected outputs: a (1459, 2) DataFrame."
   ]
  },
  {
   "cell_type": "code",
   "execution_count": 3,
   "metadata": {},
   "outputs": [],
   "source": [
    "def predict_sale_price(train_csv_file, test_csv_file):\n",
    "    \"\"\"\n",
    "    >>> sale_price = predict_sale_price('house-prices-train.csv', 'house-prices-test.csv')\n",
    "    >>> print(type(sale_price))\n",
    "    <class 'pandas.core.frame.DataFrame'>\n",
    "    >>> print(sale_price.shape)\n",
    "    (1459, 2)\n",
    "    >>> print(sale_price)\n",
    "            Id      SalePrice\n",
    "    0     1461  127400.171875\n",
    "    1     1462  160125.781250\n",
    "    2     1463  145218.718750\n",
    "    3     1464  165095.468750\n",
    "    4     1465  219274.078125\n",
    "    ...    ...            ...\n",
    "    1454  2915   85581.273438\n",
    "    1455  2916   85581.273438\n",
    "    1456  2917  140714.546875\n",
    "    1457  2918  129047.656250\n",
    "    1458  2919  219292.000000\n",
    "\n",
    "    [1459 rows x 2 columns]\n",
    "    \"\"\"\n",
    "    ### BEGIN SOLUTION\n",
    "    df = pd.read_csv(train_csv_file)\n",
    "    df_test = pd.read_csv(test_csv_file)\n",
    "    X = df[['OverallQual', 'GrLivArea']].values\n",
    "    X_test = df_test[['OverallQual', 'GrLivArea']].values\n",
    "    y = df['SalePrice'].values\n",
    "    X_train, X_valid, y_train, y_valid = train_test_split(X, y, test_size=0.2, random_state=42)\n",
    "    model = XGBRegressor()\n",
    "    model.fit(X_train, y_train)\n",
    "    y_hat = model.predict(X_test)\n",
    "    Id = df_test['Id'].values\n",
    "    df_submission = pd.DataFrame()\n",
    "    df_submission['Id'] = Id\n",
    "    df_submission['SalePrice'] = y_hat\n",
    "    return df_submission\n",
    "    ### END SOLUTION"
   ]
  },
  {
   "cell_type": "markdown",
   "metadata": {},
   "source": [
    "## Given `titanic-train.csv` in working directory, extract `Pclass`, and `Sex` as the feature matrix, `Survived` as the target vector. Encode `male` as 0, `female` as 1. Split both target vector and feature matrix with 80% as training set, 20% as validation set. Use a hyperparameter `random_state=42` to fix the randomness of split. Apply `LogisticRegression`, `SVC(kernel='linear', probability=True)`, and `XGBClassifier(use_label_encoder=False, eval_metric='mlogloss')` on the training set to generate 3 fitted models. Use the model to predict the `Survived` for validation set and measure the accuracy score of the 3 models. Log the metrics with a dict.\n",
    "\n",
    "- Expected inputs: a CSV file `titanic-train.csv`.\n",
    "- Expected outputs: a dict of length 3."
   ]
  },
  {
   "cell_type": "code",
   "execution_count": 4,
   "metadata": {},
   "outputs": [],
   "source": [
    "def get_models_accuracy_score(csv_file):\n",
    "    \"\"\"\n",
    "    >>> models_accuracy_score = get_models_accuracy_score('titanic-train.csv')\n",
    "    >>> print(type(model_accuracy_score))\n",
    "    <class 'dict'>\n",
    "    >>> print(models_accuracy_score['LogisticRegression'])\n",
    "    0.7821229050279329\n",
    "    >>> print(models_accuracy_score['SVC'])\n",
    "    0.7821229050279329\n",
    "    >>> print(models_accuracy_score['XGBClassifier'])\n",
    "    0.8268156424581006\n",
    "    \"\"\"\n",
    "    ### BEGIN SOLUTION\n",
    "    sex_dict = {\n",
    "        'male': 0,\n",
    "        'female': 1\n",
    "    }\n",
    "    df = pd.read_csv(csv_file)\n",
    "    df['Sex_Encoded'] = df['Sex'].map(sex_dict)\n",
    "    X = df[['Fare', 'Pclass', 'Sex_Encoded']].values\n",
    "    y = df['Survived'].values\n",
    "    X_train, X_valid, y_train, y_valid = train_test_split(X, y, test_size=0.2, random_state=42)\n",
    "    model_names = ['LogisticRegression', 'SVC', 'XGBClassifier']\n",
    "    models = [LogisticRegression(), SVC(kernel='linear', probability=True), XGBClassifier(use_label_encoder=False, eval_metric='mlogloss')]\n",
    "    metrics = dict()\n",
    "    for model, model_name in zip(models, model_names):\n",
    "        model.fit(X_train, y_train)\n",
    "        y_hat = model.predict(X_valid)\n",
    "        metrics[model_name] = accuracy_score(y_valid, y_hat)\n",
    "    return metrics\n",
    "    ### END SOLUTION"
   ]
  },
  {
   "cell_type": "markdown",
   "metadata": {},
   "source": [
    "## Following the previous question, choose the best one among 3 models(the higher accuracy score, the better). Use the best model to predict `Survived` for `titanic-test.csv`. Generate a (418, 2) DataFrame that is ready for submission.\n",
    "\n",
    "- Expected inputs: 2 CSV files `titanic-train.csv` and `titanic-test.csv`.\n",
    "- Expected outputs: a (418, 2) DataFrame."
   ]
  },
  {
   "cell_type": "code",
   "execution_count": 5,
   "metadata": {},
   "outputs": [],
   "source": [
    "def predict_survived(train_csv_file, test_csv_file):\n",
    "    \"\"\"\n",
    "    >>> survived = predict_survived('titanic-train.csv', 'titanic-test.csv')\n",
    "    >>> print(type(survived))\n",
    "    <class 'pandas.core.frame.DataFrame'>\n",
    "    >>> print(survived.shape)\n",
    "    (418, 2)\n",
    "    >>> print(survived)\n",
    "         PassengerId  Survived\n",
    "    0            892         0\n",
    "    1            893         1\n",
    "    2            894         0\n",
    "    3            895         0\n",
    "    4            896         1\n",
    "    ..           ...       ...\n",
    "    413         1305         0\n",
    "    414         1306         1\n",
    "    415         1307         0\n",
    "    416         1308         0\n",
    "    417         1309         0\n",
    "\n",
    "    [418 rows x 2 columns]\n",
    "    \"\"\"\n",
    "    ### BEGIN SOLUTION\n",
    "    sex_dict = {\n",
    "        'male': 0,\n",
    "        'female': 1\n",
    "    }\n",
    "    df = pd.read_csv(train_csv_file)\n",
    "    df_test = pd.read_csv(test_csv_file)\n",
    "    df['Sex_Encoded'] = df['Sex'].map(sex_dict)\n",
    "    df_test['Sex_Encoded'] = df_test['Sex'].map(sex_dict)\n",
    "    # missing value impute\n",
    "    mean_fare = (df['Fare'].sum() + df_test['Fare'].sum()) / (df['Fare'].size + df_test['Fare'].notnull().sum())\n",
    "    df_test['Fare_Imputed'] = df_test['Fare'].fillna(mean_fare)\n",
    "    X = df[['Fare', 'Pclass', 'Sex_Encoded']].values\n",
    "    X_test = df_test[['Fare_Imputed', 'Pclass', 'Sex_Encoded']].values\n",
    "    y = df['Survived'].values\n",
    "    X_train, X_valid, y_train, y_valid = train_test_split(X, y, test_size=0.2, random_state=42)\n",
    "    model = XGBClassifier(use_label_encoder=False, eval_metric='mlogloss')\n",
    "    model.fit(X_train, y_train)\n",
    "    y_hat = model.predict(X_test)\n",
    "    passenger_id = df_test['PassengerId'].values\n",
    "    df_submission = pd.DataFrame()\n",
    "    df_submission['PassengerId'] = passenger_id\n",
    "    df_submission['Survived'] = y_hat\n",
    "    return df_submission\n",
    "    ### END SOLUTION"
   ]
  },
  {
   "cell_type": "markdown",
   "metadata": {
    "deletable": false,
    "editable": false
   },
   "source": [
    "## Run tests!\n",
    "\n",
    "Kernel -> Restart & Run All."
   ]
  },
  {
   "cell_type": "code",
   "execution_count": 6,
   "metadata": {
    "deletable": false,
    "editable": false
   },
   "outputs": [
    {
     "name": "stderr",
     "output_type": "stream",
     "text": [
      "test_get_models_accuracy_score (__main__.TestCompareModels) ... ok\n",
      "test_get_models_mse (__main__.TestCompareModels) ... ok\n",
      "test_predict_sale_price (__main__.TestCompareModels) ... ok\n",
      "test_predict_survived (__main__.TestCompareModels) ... ok\n",
      "\n",
      "----------------------------------------------------------------------\n",
      "Ran 4 tests in 68.277s\n",
      "\n",
      "OK\n"
     ]
    }
   ],
   "source": [
    "import unittest\n",
    "\n",
    "class TestCompareModels(unittest.TestCase):\n",
    "    def test_get_models_mse(self):\n",
    "        models_mse = get_models_mse('house-prices-train.csv')\n",
    "        self.assertIsInstance(models_mse, dict)\n",
    "        self.assertEqual(len(models_mse), 3)\n",
    "        self.assertTrue('LinearRegression' in models_mse)\n",
    "        self.assertTrue('Ridge' in models_mse)\n",
    "        self.assertTrue('XGBRegressor' in models_mse)\n",
    "        \n",
    "    def test_predict_sale_price(self):\n",
    "        sale_price = predict_sale_price('house-prices-train.csv', 'house-prices-test.csv')\n",
    "        self.assertIsInstance(sale_price, pd.core.frame.DataFrame)\n",
    "        self.assertEqual(sale_price.shape, (1459, 2))\n",
    "        \n",
    "    def test_get_models_accuracy_score(self):\n",
    "        models_accuracy_score = get_models_accuracy_score('titanic-train.csv')\n",
    "        self.assertIsInstance(models_accuracy_score, dict)\n",
    "        self.assertEqual(len(models_accuracy_score), 3)\n",
    "        self.assertTrue('LogisticRegression' in models_accuracy_score)\n",
    "        self.assertTrue('SVC' in models_accuracy_score)\n",
    "        self.assertTrue('XGBClassifier' in models_accuracy_score)\n",
    "        \n",
    "    def test_predict_survived(self):\n",
    "        survived = predict_survived('titanic-train.csv', 'titanic-test.csv')\n",
    "        self.assertIsInstance(survived, pd.core.frame.DataFrame)\n",
    "        self.assertEqual(survived.shape, (418, 2))\n",
    "\n",
    "suite = unittest.TestLoader().loadTestsFromTestCase(TestCompareModels)\n",
    "runner = unittest.TextTestRunner(verbosity=2)\n",
    "test_results = runner.run(suite)\n",
    "number_of_failures = len(test_results.failures)\n",
    "number_of_errors = len(test_results.errors)\n",
    "number_of_test_runs = test_results.testsRun\n",
    "number_of_successes = number_of_test_runs - (number_of_failures + number_of_errors)\n",
    "total_points = number_of_successes * 2"
   ]
  },
  {
   "cell_type": "code",
   "execution_count": 7,
   "metadata": {
    "deletable": false,
    "editable": false
   },
   "outputs": [
    {
     "name": "stdout",
     "output_type": "stream",
     "text": [
      "You've got 4 successes out of 4 exercises.\n"
     ]
    }
   ],
   "source": [
    "print(\"You've got {} successes out of {} exercises.\".format(number_of_successes, number_of_test_runs))"
   ]
  },
  {
   "cell_type": "markdown",
   "metadata": {
    "deletable": false,
    "editable": false
   },
   "source": [
    "## Generate submission CSV files."
   ]
  },
  {
   "cell_type": "code",
   "execution_count": 8,
   "metadata": {
    "deletable": false,
    "editable": false
   },
   "outputs": [],
   "source": [
    "sale_price = predict_sale_price('house-prices-train.csv', 'house-prices-test.csv')\n",
    "survived = predict_survived('titanic-train.csv', 'titanic-test.csv')\n",
    "sale_price.to_csv('house-prices-submission.csv', index=False)\n",
    "survived.to_csv('titanic-submission.csv', index=False)"
   ]
  }
 ],
 "metadata": {
  "kernelspec": {
   "display_name": "Python Machine Learning",
   "language": "python",
   "name": "pyml"
  },
  "language_info": {
   "codemirror_mode": {
    "name": "ipython",
    "version": 3
   },
   "file_extension": ".py",
   "mimetype": "text/x-python",
   "name": "python",
   "nbconvert_exporter": "python",
   "pygments_lexer": "ipython3",
   "version": "3.6.8"
  }
 },
 "nbformat": 4,
 "nbformat_minor": 4
}
