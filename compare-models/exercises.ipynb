{
 "cells": [
  {
   "cell_type": "markdown",
   "metadata": {
    "deletable": false,
    "editable": false
   },
   "source": [
    "##  Python Data Science\n",
    "\n",
    "> Introduction to Machine Learning\n",
    "\n",
    "Kuo, Yao-Jen <yaojenkuo@datainpoint.com> from [DATAINPOINT](https://www.datainpoint.com)"
   ]
  },
  {
   "cell_type": "code",
   "execution_count": 1,
   "metadata": {
    "deletable": false,
    "editable": false
   },
   "outputs": [],
   "source": [
    "import numpy as np\n",
    "import pandas as pd\n",
    "import sklearn.linear_model\n",
    "from sklearn.model_selection import train_test_split\n",
    "from sklearn.linear_model import LinearRegression\n",
    "from sklearn.linear_model import LogisticRegression\n",
    "from sklearn.linear_model import Ridge\n",
    "from sklearn.svm import SVC\n",
    "from xgboost import XGBRegressor\n",
    "from xgboost import XGBClassifier\n",
    "from sklearn.metrics import mean_squared_error\n",
    "from sklearn.metrics import accuracy_score"
   ]
  },
  {
   "cell_type": "markdown",
   "metadata": {},
   "source": [
    "## Given `house-prices-train.csv` in working directory, extract `OverallQual` and `GrLivArea` as the feature matrix, `SalePrice` as the target vector. Split both target vector and feature matrix with 80% as training set, 20% as validation set. Use a hyperparameter `random_state=42` to fix the randomness of split. Apply `LinearRegression`, `Ridge`, and `XGBRegressor` on the training set to generate 3 fitted models. Use the model to predict the `SalePrice` for validation set and measure the mean squared error of the 3 models. Log the metrics with a dict.\n",
    "\n",
    "- Expected inputs: a CSV file `house-prices-train.csv`.\n",
    "- Expected outputs: a dict of length 3."
   ]
  },
  {
   "cell_type": "code",
   "execution_count": 2,
   "metadata": {},
   "outputs": [],
   "source": [
    "def get_models_mse(csv_file):\n",
    "    \"\"\"\n",
    "    >>> models_mse = get_models_mse('house-prices-train.csv')\n",
    "    >>> print(type(models_mse))\n",
    "    <class 'dict'>\n",
    "    >>> print(len(models_mse))\n",
    "    3\n",
    "    >>> print(models_mse['LinearRegression'])\n",
    "    1950070708.6601994\n",
    "    >>> print(models_mse['Ridge'])\n",
    "    1950170046.4195352\n",
    "    >>> print(models_mse['XGBRegressor'])\n",
    "    1536931894.3172483\n",
    "    \"\"\"\n",
    "    ### BEGIN SOLUTION\n",
    "    ### END SOLUTION"
   ]
  },
  {
   "cell_type": "markdown",
   "metadata": {},
   "source": [
    "## Following the previous question, choose the best one among 3 models(the lower mean squared error, the better). Use the best model to predict `SalePrice` for `house-prices-test.csv`. Generate a (1459, 2) DataFrame that is ready for submission.\n",
    "\n",
    "- Expected inputs: 2 CSV files `house-prices-train.csv` and `house-prices-test.csv`.\n",
    "- Expected outputs: a (1459, 2) DataFrame."
   ]
  },
  {
   "cell_type": "code",
   "execution_count": 3,
   "metadata": {},
   "outputs": [],
   "source": [
    "def predict_sale_price(train_csv_file, test_csv_file):\n",
    "    \"\"\"\n",
    "    >>> sale_price = predict_sale_price('house-prices-train.csv', 'house-prices-test.csv')\n",
    "    >>> print(type(sale_price))\n",
    "    <class 'pandas.core.frame.DataFrame'>\n",
    "    >>> print(sale_price.shape)\n",
    "    (1459, 2)\n",
    "    >>> print(sale_price)\n",
    "            Id      SalePrice\n",
    "    0     1461  127400.171875\n",
    "    1     1462  160125.781250\n",
    "    2     1463  145218.718750\n",
    "    3     1464  165095.468750\n",
    "    4     1465  219274.078125\n",
    "    ...    ...            ...\n",
    "    1454  2915   85581.273438\n",
    "    1455  2916   85581.273438\n",
    "    1456  2917  140714.546875\n",
    "    1457  2918  129047.656250\n",
    "    1458  2919  219292.000000\n",
    "\n",
    "    [1459 rows x 2 columns]\n",
    "    \"\"\"\n",
    "    ### BEGIN SOLUTION\n",
    "    ### END SOLUTION"
   ]
  },
  {
   "cell_type": "markdown",
   "metadata": {},
   "source": [
    "## Given `titanic-train.csv` in working directory, extract `Pclass`, and `Sex` as the feature matrix, `Survived` as the target vector. Encode `male` as 0, `female` as 1. Split both target vector and feature matrix with 80% as training set, 20% as validation set. Use a hyperparameter `random_state=42` to fix the randomness of split. Apply `LogisticRegression`, `SVC(kernel='linear', probability=True)`, and `XGBClassifier(use_label_encoder=False, eval_metric='mlogloss')` on the training set to generate 3 fitted models. Use the model to predict the `Survived` for validation set and measure the accuracy score of the 3 models. Log the metrics with a dict.\n",
    "\n",
    "- Expected inputs: a CSV file `titanic-train.csv`.\n",
    "- Expected outputs: a dict of length 3."
   ]
  },
  {
   "cell_type": "code",
   "execution_count": 4,
   "metadata": {},
   "outputs": [],
   "source": [
    "def get_models_accuracy_score(csv_file):\n",
    "    \"\"\"\n",
    "    >>> models_accuracy_score = get_models_accuracy_score('titanic-train.csv')\n",
    "    >>> print(type(model_accuracy_score))\n",
    "    <class 'dict'>\n",
    "    >>> print(models_accuracy_score['LogisticRegression'])\n",
    "    0.7821229050279329\n",
    "    >>> print(models_accuracy_score['SVC'])\n",
    "    0.7821229050279329\n",
    "    >>> print(models_accuracy_score['XGBClassifier'])\n",
    "    0.8268156424581006\n",
    "    \"\"\"\n",
    "    ### BEGIN SOLUTION\n",
    "    ### END SOLUTION"
   ]
  },
  {
   "cell_type": "markdown",
   "metadata": {},
   "source": [
    "## Following the previous question, choose the best one among 3 models(the higher accuracy score, the better). Use the best model to predict `Survived` for `titanic-test.csv`. Generate a (418, 2) DataFrame that is ready for submission.\n",
    "\n",
    "- Expected inputs: 2 CSV files `titanic-train.csv` and `titanic-test.csv`.\n",
    "- Expected outputs: a (418, 2) DataFrame."
   ]
  },
  {
   "cell_type": "code",
   "execution_count": 5,
   "metadata": {},
   "outputs": [],
   "source": [
    "def predict_survived(train_csv_file, test_csv_file):\n",
    "    \"\"\"\n",
    "    >>> survived = predict_survived('titanic-train.csv', 'titanic-test.csv')\n",
    "    >>> print(type(survived))\n",
    "    <class 'pandas.core.frame.DataFrame'>\n",
    "    >>> print(survived.shape)\n",
    "    (418, 2)\n",
    "    >>> print(survived)\n",
    "         PassengerId  Survived\n",
    "    0            892         0\n",
    "    1            893         1\n",
    "    2            894         0\n",
    "    3            895         0\n",
    "    4            896         1\n",
    "    ..           ...       ...\n",
    "    413         1305         0\n",
    "    414         1306         1\n",
    "    415         1307         0\n",
    "    416         1308         0\n",
    "    417         1309         0\n",
    "\n",
    "    [418 rows x 2 columns]\n",
    "    \"\"\"\n",
    "    ### BEGIN SOLUTION\n",
    "    ### END SOLUTION"
   ]
  },
  {
   "cell_type": "markdown",
   "metadata": {
    "deletable": false,
    "editable": false
   },
   "source": [
    "## Run tests!\n",
    "\n",
    "Kernel -> Restart & Run All."
   ]
  },
  {
   "cell_type": "code",
   "execution_count": 6,
   "metadata": {
    "deletable": false,
    "editable": false
   },
   "outputs": [
    {
     "name": "stderr",
     "output_type": "stream",
     "text": [
      "test_get_models_accuracy_score (__main__.TestCompareModels) ... FAIL\n",
      "test_get_models_mse (__main__.TestCompareModels) ... FAIL\n",
      "test_predict_sale_price (__main__.TestCompareModels) ... FAIL\n",
      "test_predict_survived (__main__.TestCompareModels) ... FAIL\n",
      "\n",
      "======================================================================\n",
      "FAIL: test_get_models_accuracy_score (__main__.TestCompareModels)\n",
      "----------------------------------------------------------------------\n",
      "Traceback (most recent call last):\n",
      "  File \"<ipython-input-6-f0ad115b31b7>\", line 19, in test_get_models_accuracy_score\n",
      "    self.assertIsInstance(models_accuracy_score, dict)\n",
      "AssertionError: None is not an instance of <class 'dict'>\n",
      "\n",
      "======================================================================\n",
      "FAIL: test_get_models_mse (__main__.TestCompareModels)\n",
      "----------------------------------------------------------------------\n",
      "Traceback (most recent call last):\n",
      "  File \"<ipython-input-6-f0ad115b31b7>\", line 6, in test_get_models_mse\n",
      "    self.assertIsInstance(models_mse, dict)\n",
      "AssertionError: None is not an instance of <class 'dict'>\n",
      "\n",
      "======================================================================\n",
      "FAIL: test_predict_sale_price (__main__.TestCompareModels)\n",
      "----------------------------------------------------------------------\n",
      "Traceback (most recent call last):\n",
      "  File \"<ipython-input-6-f0ad115b31b7>\", line 14, in test_predict_sale_price\n",
      "    self.assertIsInstance(sale_price, pd.core.frame.DataFrame)\n",
      "AssertionError: None is not an instance of <class 'pandas.core.frame.DataFrame'>\n",
      "\n",
      "======================================================================\n",
      "FAIL: test_predict_survived (__main__.TestCompareModels)\n",
      "----------------------------------------------------------------------\n",
      "Traceback (most recent call last):\n",
      "  File \"<ipython-input-6-f0ad115b31b7>\", line 27, in test_predict_survived\n",
      "    self.assertIsInstance(survived, pd.core.frame.DataFrame)\n",
      "AssertionError: None is not an instance of <class 'pandas.core.frame.DataFrame'>\n",
      "\n",
      "----------------------------------------------------------------------\n",
      "Ran 4 tests in 0.006s\n",
      "\n",
      "FAILED (failures=4)\n"
     ]
    }
   ],
   "source": [
    "import unittest\n",
    "\n",
    "class TestCompareModels(unittest.TestCase):\n",
    "    def test_get_models_mse(self):\n",
    "        models_mse = get_models_mse('house-prices-train.csv')\n",
    "        self.assertIsInstance(models_mse, dict)\n",
    "        self.assertEqual(len(models_mse), 3)\n",
    "        self.assertTrue('LinearRegression' in models_mse)\n",
    "        self.assertTrue('Ridge' in models_mse)\n",
    "        self.assertTrue('XGBRegressor' in models_mse)\n",
    "        \n",
    "    def test_predict_sale_price(self):\n",
    "        sale_price = predict_sale_price('house-prices-train.csv', 'house-prices-test.csv')\n",
    "        self.assertIsInstance(sale_price, pd.core.frame.DataFrame)\n",
    "        self.assertEqual(sale_price.shape, (1459, 2))\n",
    "        \n",
    "    def test_get_models_accuracy_score(self):\n",
    "        models_accuracy_score = get_models_accuracy_score('titanic-train.csv')\n",
    "        self.assertIsInstance(models_accuracy_score, dict)\n",
    "        self.assertEqual(len(models_accuracy_score), 3)\n",
    "        self.assertTrue('LogisticRegression' in models_accuracy_score)\n",
    "        self.assertTrue('SVC' in models_accuracy_score)\n",
    "        self.assertTrue('XGBClassifier' in models_accuracy_score)\n",
    "        \n",
    "    def test_predict_survived(self):\n",
    "        survived = predict_survived('titanic-train.csv', 'titanic-test.csv')\n",
    "        self.assertIsInstance(survived, pd.core.frame.DataFrame)\n",
    "        self.assertEqual(survived.shape, (418, 2))\n",
    "\n",
    "suite = unittest.TestLoader().loadTestsFromTestCase(TestCompareModels)\n",
    "runner = unittest.TextTestRunner(verbosity=2)\n",
    "test_results = runner.run(suite)\n",
    "number_of_failures = len(test_results.failures)\n",
    "number_of_errors = len(test_results.errors)\n",
    "number_of_test_runs = test_results.testsRun\n",
    "number_of_successes = number_of_test_runs - (number_of_failures + number_of_errors)\n",
    "total_points = number_of_successes * 2"
   ]
  },
  {
   "cell_type": "code",
   "execution_count": 7,
   "metadata": {
    "deletable": false,
    "editable": false
   },
   "outputs": [
    {
     "name": "stdout",
     "output_type": "stream",
     "text": [
      "You've got 0 successes out of 4 exercises.\n"
     ]
    }
   ],
   "source": [
    "print(\"You've got {} successes out of {} exercises.\".format(number_of_successes, number_of_test_runs))"
   ]
  },
  {
   "cell_type": "markdown",
   "metadata": {
    "deletable": false,
    "editable": false
   },
   "source": [
    "## Generate submission CSV files."
   ]
  },
  {
   "cell_type": "code",
   "execution_count": 8,
   "metadata": {
    "deletable": false,
    "editable": false
   },
   "outputs": [
    {
     "ename": "AttributeError",
     "evalue": "'NoneType' object has no attribute 'to_csv'",
     "output_type": "error",
     "traceback": [
      "\u001b[0;31m---------------------------------------------------------------------------\u001b[0m",
      "\u001b[0;31mAttributeError\u001b[0m                            Traceback (most recent call last)",
      "\u001b[0;32m<ipython-input-8-33634e7c1a60>\u001b[0m in \u001b[0;36m<module>\u001b[0;34m\u001b[0m\n\u001b[1;32m      1\u001b[0m \u001b[0msale_price\u001b[0m \u001b[0;34m=\u001b[0m \u001b[0mpredict_sale_price\u001b[0m\u001b[0;34m(\u001b[0m\u001b[0;34m'house-prices-train.csv'\u001b[0m\u001b[0;34m,\u001b[0m \u001b[0;34m'house-prices-test.csv'\u001b[0m\u001b[0;34m)\u001b[0m\u001b[0;34m\u001b[0m\u001b[0;34m\u001b[0m\u001b[0m\n\u001b[1;32m      2\u001b[0m \u001b[0msurvived\u001b[0m \u001b[0;34m=\u001b[0m \u001b[0mpredict_survived\u001b[0m\u001b[0;34m(\u001b[0m\u001b[0;34m'titanic-train.csv'\u001b[0m\u001b[0;34m,\u001b[0m \u001b[0;34m'titanic-test.csv'\u001b[0m\u001b[0;34m)\u001b[0m\u001b[0;34m\u001b[0m\u001b[0;34m\u001b[0m\u001b[0m\n\u001b[0;32m----> 3\u001b[0;31m \u001b[0msale_price\u001b[0m\u001b[0;34m.\u001b[0m\u001b[0mto_csv\u001b[0m\u001b[0;34m(\u001b[0m\u001b[0;34m'house-prices-submission.csv'\u001b[0m\u001b[0;34m,\u001b[0m \u001b[0mindex\u001b[0m\u001b[0;34m=\u001b[0m\u001b[0;32mFalse\u001b[0m\u001b[0;34m)\u001b[0m\u001b[0;34m\u001b[0m\u001b[0;34m\u001b[0m\u001b[0m\n\u001b[0m\u001b[1;32m      4\u001b[0m \u001b[0msurvived\u001b[0m\u001b[0;34m.\u001b[0m\u001b[0mto_csv\u001b[0m\u001b[0;34m(\u001b[0m\u001b[0;34m'titanic-submission.csv'\u001b[0m\u001b[0;34m,\u001b[0m \u001b[0mindex\u001b[0m\u001b[0;34m=\u001b[0m\u001b[0;32mFalse\u001b[0m\u001b[0;34m)\u001b[0m\u001b[0;34m\u001b[0m\u001b[0;34m\u001b[0m\u001b[0m\n",
      "\u001b[0;31mAttributeError\u001b[0m: 'NoneType' object has no attribute 'to_csv'"
     ]
    }
   ],
   "source": [
    "sale_price = predict_sale_price('house-prices-train.csv', 'house-prices-test.csv')\n",
    "survived = predict_survived('titanic-train.csv', 'titanic-test.csv')\n",
    "sale_price.to_csv('house-prices-submission.csv', index=False)\n",
    "survived.to_csv('titanic-submission.csv', index=False)"
   ]
  }
 ],
 "metadata": {
  "kernelspec": {
   "display_name": "Python Machine Learning",
   "language": "python",
   "name": "pyml"
  },
  "language_info": {
   "codemirror_mode": {
    "name": "ipython",
    "version": 3
   },
   "file_extension": ".py",
   "mimetype": "text/x-python",
   "name": "python",
   "nbconvert_exporter": "python",
   "pygments_lexer": "ipython3",
   "version": "3.6.8"
  }
 },
 "nbformat": 4,
 "nbformat_minor": 4
}
