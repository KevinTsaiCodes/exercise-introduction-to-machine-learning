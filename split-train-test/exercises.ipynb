{
 "cells": [
  {
   "cell_type": "markdown",
   "metadata": {
    "deletable": false,
    "editable": false
   },
   "source": [
    "##  Python Data Science\n",
    "\n",
    "> Introduction to Machine Learning\n",
    "\n",
    "Kuo, Yao-Jen <yaojenkuo@datainpoint.com> from [DATAINPOINT](https://www.datainpoint.com)"
   ]
  },
  {
   "cell_type": "code",
   "execution_count": 1,
   "metadata": {
    "deletable": false,
    "editable": false
   },
   "outputs": [],
   "source": [
    "import numpy as np\n",
    "import pandas as pd\n",
    "from sklearn.model_selection import train_test_split"
   ]
  },
  {
   "cell_type": "markdown",
   "metadata": {},
   "source": [
    "## Given `titanic-train.csv` in working directory, extract `Survived` as target vector and other variables as feature matrix. Split both target vector and feature matrix with 70% as training set, 30% as validation set.\n",
    "\n",
    "- Expected inputs: a CSV file `titanic-train.csv`.\n",
    "- Expected outputs: Four ndarrays with shapes of (350, 11), (150, 11), (350,), and (150,)."
   ]
  },
  {
   "cell_type": "code",
   "execution_count": 2,
   "metadata": {},
   "outputs": [],
   "source": [
    "def split_titanic_X_y(csv_file):\n",
    "    \"\"\"\n",
    "    >>> X_train, X_valid, y_train, y_valid = split_titanic_X_y('titanic-train.csv')\n",
    "    >>> print(type(X_train))\n",
    "    <class 'numpy.ndarray'>\n",
    "    >>> print(type(X_valid))\n",
    "    <class 'numpy.ndarray'>\n",
    "    >>> print(type(y_train))\n",
    "    <class 'numpy.ndarray'>\n",
    "    >>> print(type(y_valid))\n",
    "    <class 'numpy.ndarray'>\n",
    "    >>> print(X_train.shape)\n",
    "    (350, 11)\n",
    "    >>> print(X_valid.shape)\n",
    "    (150, 11)\n",
    "    >>> print(y_train.shape)\n",
    "    (350,)\n",
    "    >>> print(y_valid.shape)\n",
    "    (150,)\n",
    "    \"\"\"\n",
    "    ### BEGIN SOLUTION\n",
    "    ### END SOLUTION"
   ]
  },
  {
   "cell_type": "markdown",
   "metadata": {},
   "source": [
    "## Given `house-prices-train.csv` in working directory, extract `SalePrice` as target vector and other variables as feature matrix.  Split both target vector and feature matrix with 80% as training set, 20% as validation set.\n",
    "\n",
    "- Expected inputs: a CSV file `house-prices-train.csv`.\n",
    "- Expected outputs: Four ndarrays with shapes of (800, 80), (200, 80), (800,), and (200,)."
   ]
  },
  {
   "cell_type": "code",
   "execution_count": 3,
   "metadata": {},
   "outputs": [],
   "source": [
    "def split_house_prices_X_y(csv_file):\n",
    "    \"\"\"\n",
    "    >>> X_train, X_valid, y_train, y_valid = split_house_prices_X_y('house-prices-train.csv')\n",
    "    >>> print(type(X_train))\n",
    "    <class 'numpy.ndarray'>\n",
    "    >>> print(type(X_valid))\n",
    "    <class 'numpy.ndarray'>\n",
    "    >>> print(type(y_train))\n",
    "    <class 'numpy.ndarray'>\n",
    "    >>> print(type(y_valid))\n",
    "    <class 'numpy.ndarray'>\n",
    "    >>> print(X_train.shape)\n",
    "    (800, 80)\n",
    "    >>> print(X_valid.shape)\n",
    "    (200, 80)\n",
    "    >>> print(y_train.shape)\n",
    "    (800,)\n",
    "    >>> print(y_valid.shape)\n",
    "    (200,)\n",
    "    \"\"\"\n",
    "    ### BEGIN SOLUTION\n",
    "    ### END SOLUTION"
   ]
  },
  {
   "cell_type": "markdown",
   "metadata": {
    "deletable": false,
    "editable": false
   },
   "source": [
    "## Run tests!\n",
    "\n",
    "Kernel -> Restart & Run All."
   ]
  },
  {
   "cell_type": "code",
   "execution_count": 4,
   "metadata": {
    "deletable": false,
    "editable": false
   },
   "outputs": [
    {
     "name": "stderr",
     "output_type": "stream",
     "text": [
      "test_split_house_prices_X_y (__main__.TestSplitTrainTest) ... ERROR\n",
      "test_split_titanic_X_y (__main__.TestSplitTrainTest) ... ERROR\n",
      "\n",
      "======================================================================\n",
      "ERROR: test_split_house_prices_X_y (__main__.TestSplitTrainTest)\n",
      "----------------------------------------------------------------------\n",
      "Traceback (most recent call last):\n",
      "  File \"<ipython-input-4-f742003d6411>\", line 15, in test_split_house_prices_X_y\n",
      "    X_train, X_valid, y_train, y_valid = split_house_prices_X_y('house-prices-train.csv')\n",
      "TypeError: 'NoneType' object is not iterable\n",
      "\n",
      "======================================================================\n",
      "ERROR: test_split_titanic_X_y (__main__.TestSplitTrainTest)\n",
      "----------------------------------------------------------------------\n",
      "Traceback (most recent call last):\n",
      "  File \"<ipython-input-4-f742003d6411>\", line 5, in test_split_titanic_X_y\n",
      "    X_train, X_valid, y_train, y_valid = split_titanic_X_y('titanic-train.csv')\n",
      "TypeError: 'NoneType' object is not iterable\n",
      "\n",
      "----------------------------------------------------------------------\n",
      "Ran 2 tests in 0.008s\n",
      "\n",
      "FAILED (errors=2)\n"
     ]
    }
   ],
   "source": [
    "import unittest\n",
    "\n",
    "class TestSplitTrainTest(unittest.TestCase):\n",
    "    def test_split_titanic_X_y(self):\n",
    "        X_train, X_valid, y_train, y_valid = split_titanic_X_y('titanic-train.csv')\n",
    "        self.assertIsInstance(X_train, np.ndarray)\n",
    "        self.assertIsInstance(X_valid, np.ndarray)\n",
    "        self.assertIsInstance(y_train, np.ndarray)\n",
    "        self.assertIsInstance(y_valid, np.ndarray)\n",
    "        self.assertEqual(X_train.shape, (350, 11))\n",
    "        self.assertEqual(X_valid.shape, (150, 11))\n",
    "        self.assertEqual(y_train.shape, (350,))\n",
    "        self.assertEqual(y_valid.shape, (150,))\n",
    "    def test_split_house_prices_X_y(self):\n",
    "        X_train, X_valid, y_train, y_valid = split_house_prices_X_y('house-prices-train.csv')\n",
    "        self.assertIsInstance(X_train, np.ndarray)\n",
    "        self.assertIsInstance(X_valid, np.ndarray)\n",
    "        self.assertIsInstance(y_train, np.ndarray)\n",
    "        self.assertIsInstance(y_valid, np.ndarray)\n",
    "        self.assertEqual(X_train.shape, (800, 80))\n",
    "        self.assertEqual(X_valid.shape, (200, 80))\n",
    "        self.assertEqual(y_train.shape, (800,))\n",
    "        self.assertEqual(y_valid.shape, (200,))\n",
    "\n",
    "suite = unittest.TestLoader().loadTestsFromTestCase(TestSplitTrainTest)\n",
    "runner = unittest.TextTestRunner(verbosity=2)\n",
    "test_results = runner.run(suite)\n",
    "number_of_failures = len(test_results.failures)\n",
    "number_of_errors = len(test_results.errors)\n",
    "number_of_test_runs = test_results.testsRun\n",
    "number_of_successes = number_of_test_runs - (number_of_failures + number_of_errors)\n",
    "total_points = number_of_successes * 2"
   ]
  },
  {
   "cell_type": "code",
   "execution_count": 5,
   "metadata": {
    "deletable": false,
    "editable": false
   },
   "outputs": [
    {
     "name": "stdout",
     "output_type": "stream",
     "text": [
      "You've got 0 successes out of 2 exercises.\n"
     ]
    }
   ],
   "source": [
    "print(\"You've got {} successes out of {} exercises.\".format(number_of_successes, number_of_test_runs))"
   ]
  }
 ],
 "metadata": {
  "kernelspec": {
   "display_name": "Python Machine Learning",
   "language": "python",
   "name": "pyml"
  },
  "language_info": {
   "codemirror_mode": {
    "name": "ipython",
    "version": 3
   },
   "file_extension": ".py",
   "mimetype": "text/x-python",
   "name": "python",
   "nbconvert_exporter": "python",
   "pygments_lexer": "ipython3",
   "version": "3.6.8"
  }
 },
 "nbformat": 4,
 "nbformat_minor": 4
}
